{
 "cells": [
  {
   "cell_type": "code",
   "execution_count": 1,
   "id": "c6da8565",
   "metadata": {},
   "outputs": [],
   "source": [
    "from tqdm import tqdm\n",
    "import matplotlib.pyplot as plt\n",
    "from nltk.sentiment.vader import SentimentIntensityAnalyzer\n",
    "import pandas as pd\n",
    "\n",
    "import re\n",
    "import string\n",
    "import numpy as np\n",
    "import contractions\n",
    "from num2words import num2words\n",
    "import nltk\n",
    "from nltk.corpus import stopwords\n",
    "from nltk.stem import SnowballStemmer\n",
    "\n",
    "from tqdm import tqdm"
   ]
  },
  {
   "cell_type": "markdown",
   "id": "47b582c5",
   "metadata": {},
   "source": [
    "# VADER rule-based method"
   ]
  },
  {
   "cell_type": "markdown",
   "id": "8a286341",
   "metadata": {},
   "source": [
    "The same clean_text preprocessing function as used in the data preprocessing notebook. This is so we can type our own reviews and see what we get. However, we are not stemming or removing the stop words as VADER is trained on microblog data so the text should read as normal unprocessed English. We also do not want to convert to lower case as VADER uses all caps as a sentiment modifier."
   ]
  },
  {
   "cell_type": "code",
   "execution_count": 3,
   "id": "b66a31c6",
   "metadata": {},
   "outputs": [],
   "source": [
    "def clean_text(text):\n",
    "    # Expand contractions\n",
    "    text = contractions.fix(text)\n",
    "    \n",
    "    # Remove HTML tags\n",
    "    text = re.sub('<[^<]+?>', '', text)\n",
    "    \n",
    "    # Remove extra whitespace\n",
    "    text = re.sub(r'\\s+', ' ', text)\n",
    "    \n",
    "    # Replace special characters with their ASCII equivalent\n",
    "    text = text.replace(\"’\", \"'\").replace(\"‘\", \"'\").replace(\"“\", '\"').replace(\"”\", '\"')\n",
    "    \n",
    "    # Remove punctuation\n",
    "    text = text.translate(str.maketrans('', '', string.punctuation)) \n",
    "    \n",
    "    # Replace numbers with their written form\n",
    "    words = []\n",
    "    for word in text.split():\n",
    "        if word.isdigit():\n",
    "            words.append(num2words(int(word)))\n",
    "        else:\n",
    "            words.append(word)\n",
    "    text = ' '.join(words)\n",
    "    \n",
    "    # Remove punctuation\n",
    "    text = text.translate(str.maketrans('', '', string.punctuation))     \n",
    "   \n",
    "    return text"
   ]
  },
  {
   "cell_type": "code",
   "execution_count": 4,
   "id": "a59c1faf",
   "metadata": {},
   "outputs": [
    {
     "data": {
      "text/html": [
       "<div>\n",
       "<style scoped>\n",
       "    .dataframe tbody tr th:only-of-type {\n",
       "        vertical-align: middle;\n",
       "    }\n",
       "\n",
       "    .dataframe tbody tr th {\n",
       "        vertical-align: top;\n",
       "    }\n",
       "\n",
       "    .dataframe thead th {\n",
       "        text-align: right;\n",
       "    }\n",
       "</style>\n",
       "<table border=\"1\" class=\"dataframe\">\n",
       "  <thead>\n",
       "    <tr style=\"text-align: right;\">\n",
       "      <th></th>\n",
       "      <th>overall</th>\n",
       "      <th>reviewText</th>\n",
       "      <th>asin</th>\n",
       "      <th>preprocessed_text</th>\n",
       "    </tr>\n",
       "  </thead>\n",
       "  <tbody>\n",
       "    <tr>\n",
       "      <th>0</th>\n",
       "      <td>5</td>\n",
       "      <td>I don't spend a lot on my flags because they r...</td>\n",
       "      <td>9539723809</td>\n",
       "      <td>spend lot flag realli get beat lesser qualiti ...</td>\n",
       "    </tr>\n",
       "    <tr>\n",
       "      <th>1</th>\n",
       "      <td>5</td>\n",
       "      <td>A very dear friend of mine is slowly losing he...</td>\n",
       "      <td>B00000JSZH</td>\n",
       "      <td>dear friend mine slowli lose sight pen make po...</td>\n",
       "    </tr>\n",
       "    <tr>\n",
       "      <th>2</th>\n",
       "      <td>5</td>\n",
       "      <td>This is absolutely exquisite! It's made of car...</td>\n",
       "      <td>B00000JSZH</td>\n",
       "      <td>absolut exquisit made cardboard like descript ...</td>\n",
       "    </tr>\n",
       "    <tr>\n",
       "      <th>3</th>\n",
       "      <td>4</td>\n",
       "      <td>This is really nice to use, however, just not ...</td>\n",
       "      <td>B00000JSZH</td>\n",
       "      <td>realli nice use howev color saddl shimmer give...</td>\n",
       "    </tr>\n",
       "    <tr>\n",
       "      <th>4</th>\n",
       "      <td>5</td>\n",
       "      <td>This Angel is beautiful. I as so glad I chose ...</td>\n",
       "      <td>B00000JSZH</td>\n",
       "      <td>angel beauti glad chose one even beauti look o...</td>\n",
       "    </tr>\n",
       "  </tbody>\n",
       "</table>\n",
       "</div>"
      ],
      "text/plain": [
       "   overall                                         reviewText        asin  \\\n",
       "0        5  I don't spend a lot on my flags because they r...  9539723809   \n",
       "1        5  A very dear friend of mine is slowly losing he...  B00000JSZH   \n",
       "2        5  This is absolutely exquisite! It's made of car...  B00000JSZH   \n",
       "3        4  This is really nice to use, however, just not ...  B00000JSZH   \n",
       "4        5  This Angel is beautiful. I as so glad I chose ...  B00000JSZH   \n",
       "\n",
       "                                   preprocessed_text  \n",
       "0  spend lot flag realli get beat lesser qualiti ...  \n",
       "1  dear friend mine slowli lose sight pen make po...  \n",
       "2  absolut exquisit made cardboard like descript ...  \n",
       "3  realli nice use howev color saddl shimmer give...  \n",
       "4  angel beauti glad chose one even beauti look o...  "
      ]
     },
     "execution_count": 4,
     "metadata": {},
     "output_type": "execute_result"
    }
   ],
   "source": [
    "df = pd.read_csv('../Data/preprocessed_data.csv')\n",
    "df.head()"
   ]
  },
  {
   "cell_type": "code",
   "execution_count": 5,
   "id": "3cedcc54",
   "metadata": {
    "scrolled": true
   },
   "outputs": [
    {
     "data": {
      "text/plain": [
       "overall              0.0\n",
       "reviewText           0.0\n",
       "asin                 0.0\n",
       "preprocessed_text    0.0\n",
       "dtype: float64"
      ]
     },
     "execution_count": 5,
     "metadata": {},
     "output_type": "execute_result"
    }
   ],
   "source": [
    "df.isnull().mean()"
   ]
  },
  {
   "cell_type": "code",
   "execution_count": 6,
   "id": "153f2492",
   "metadata": {},
   "outputs": [],
   "source": [
    "df.dropna(inplace=True)"
   ]
  },
  {
   "cell_type": "markdown",
   "id": "47801f35",
   "metadata": {},
   "source": [
    "This function converts a sentiment score into a rating."
   ]
  },
  {
   "cell_type": "code",
   "execution_count": 7,
   "id": "4a003328",
   "metadata": {},
   "outputs": [],
   "source": [
    "def catagorise_data(sentiment):\n",
    "    if sentiment >=-1 and sentiment < -0.5:\n",
    "        return 1\n",
    "    \n",
    "    if sentiment >= -0.5 and sentiment < 0:\n",
    "        return 2\n",
    "    \n",
    "    if sentiment == 0:\n",
    "        return 3\n",
    "    \n",
    "    if sentiment > 0 and sentiment < 0.5:\n",
    "        return 4\n",
    "    \n",
    "    if sentiment >= 0.5 and sentiment <= 1:\n",
    "        return 5"
   ]
  },
  {
   "cell_type": "code",
   "execution_count": 8,
   "id": "a333f88a",
   "metadata": {},
   "outputs": [],
   "source": [
    "sid = SentimentIntensityAnalyzer()"
   ]
  },
  {
   "cell_type": "markdown",
   "id": "3fc16ea4",
   "metadata": {},
   "source": [
    "Looking at an individual example of how VADER works, we can see that 'compound' score is posative, meaning the overall sentiment is posative which is correct for the input sentence."
   ]
  },
  {
   "cell_type": "code",
   "execution_count": 9,
   "id": "a6dc0e48",
   "metadata": {},
   "outputs": [
    {
     "name": "stdout",
     "output_type": "stream",
     "text": [
      "good product well put together great presentation\n",
      "{'neg': 0.0, 'neu': 0.305, 'pos': 0.695, 'compound': 0.8442}\n"
     ]
    }
   ],
   "source": [
    "testText = clean_text(\"Good product, well put together, great presentation\")\n",
    "print(testText)\n",
    "testScore = sid.polarity_scores(testText)\n",
    "print(testScore)"
   ]
  },
  {
   "cell_type": "code",
   "execution_count": 10,
   "id": "f7fc29a3",
   "metadata": {},
   "outputs": [
    {
     "name": "stdout",
     "output_type": "stream",
     "text": [
      "5\n"
     ]
    }
   ],
   "source": [
    "print(catagorise_data(testScore['compound']))"
   ]
  },
  {
   "cell_type": "markdown",
   "id": "aa0b6b69",
   "metadata": {},
   "source": [
    "We run the data through clean_text, then get a sentiment score and then convert it into a rating."
   ]
  },
  {
   "cell_type": "code",
   "execution_count": 11,
   "id": "a690bdb8",
   "metadata": {},
   "outputs": [],
   "source": [
    "def generate_rating(review):\n",
    "    preprocessed_text = clean_text(review)\n",
    "    tmp = sid.polarity_scores(preprocessed_text)\n",
    "    predicted_rating = catagorise_data(tmp['compound'])\n",
    "    return predicted_rating"
   ]
  },
  {
   "cell_type": "code",
   "execution_count": 12,
   "id": "e2462449",
   "metadata": {},
   "outputs": [
    {
     "name": "stdout",
     "output_type": "stream",
     "text": [
      "5\n"
     ]
    }
   ],
   "source": [
    "print(generate_rating(\"Good product, works well. However, broke after only 1 use. I'm happy\"))"
   ]
  },
  {
   "cell_type": "code",
   "execution_count": 13,
   "id": "f097b856",
   "metadata": {},
   "outputs": [
    {
     "name": "stderr",
     "output_type": "stream",
     "text": [
      "100%|█████████████████████████████████████████████████████████████████████████| 179642/179642 [03:04<00:00, 975.33it/s]\n"
     ]
    },
    {
     "data": {
      "text/html": [
       "<div>\n",
       "<style scoped>\n",
       "    .dataframe tbody tr th:only-of-type {\n",
       "        vertical-align: middle;\n",
       "    }\n",
       "\n",
       "    .dataframe tbody tr th {\n",
       "        vertical-align: top;\n",
       "    }\n",
       "\n",
       "    .dataframe thead th {\n",
       "        text-align: right;\n",
       "    }\n",
       "</style>\n",
       "<table border=\"1\" class=\"dataframe\">\n",
       "  <thead>\n",
       "    <tr style=\"text-align: right;\">\n",
       "      <th></th>\n",
       "      <th>overall</th>\n",
       "      <th>reviewText</th>\n",
       "      <th>asin</th>\n",
       "      <th>preprocessed_text</th>\n",
       "      <th>vader_rating</th>\n",
       "    </tr>\n",
       "  </thead>\n",
       "  <tbody>\n",
       "    <tr>\n",
       "      <th>0</th>\n",
       "      <td>5</td>\n",
       "      <td>I don't spend a lot on my flags because they r...</td>\n",
       "      <td>9539723809</td>\n",
       "      <td>spend lot flag realli get beat lesser qualiti ...</td>\n",
       "      <td>5</td>\n",
       "    </tr>\n",
       "    <tr>\n",
       "      <th>1</th>\n",
       "      <td>5</td>\n",
       "      <td>A very dear friend of mine is slowly losing he...</td>\n",
       "      <td>B00000JSZH</td>\n",
       "      <td>dear friend mine slowli lose sight pen make po...</td>\n",
       "      <td>5</td>\n",
       "    </tr>\n",
       "    <tr>\n",
       "      <th>2</th>\n",
       "      <td>5</td>\n",
       "      <td>This is absolutely exquisite! It's made of car...</td>\n",
       "      <td>B00000JSZH</td>\n",
       "      <td>absolut exquisit made cardboard like descript ...</td>\n",
       "      <td>5</td>\n",
       "    </tr>\n",
       "    <tr>\n",
       "      <th>3</th>\n",
       "      <td>4</td>\n",
       "      <td>This is really nice to use, however, just not ...</td>\n",
       "      <td>B00000JSZH</td>\n",
       "      <td>realli nice use howev color saddl shimmer give...</td>\n",
       "      <td>5</td>\n",
       "    </tr>\n",
       "    <tr>\n",
       "      <th>4</th>\n",
       "      <td>5</td>\n",
       "      <td>This Angel is beautiful. I as so glad I chose ...</td>\n",
       "      <td>B00000JSZH</td>\n",
       "      <td>angel beauti glad chose one even beauti look o...</td>\n",
       "      <td>4</td>\n",
       "    </tr>\n",
       "  </tbody>\n",
       "</table>\n",
       "</div>"
      ],
      "text/plain": [
       "   overall                                         reviewText        asin  \\\n",
       "0        5  I don't spend a lot on my flags because they r...  9539723809   \n",
       "1        5  A very dear friend of mine is slowly losing he...  B00000JSZH   \n",
       "2        5  This is absolutely exquisite! It's made of car...  B00000JSZH   \n",
       "3        4  This is really nice to use, however, just not ...  B00000JSZH   \n",
       "4        5  This Angel is beautiful. I as so glad I chose ...  B00000JSZH   \n",
       "\n",
       "                                   preprocessed_text  vader_rating  \n",
       "0  spend lot flag realli get beat lesser qualiti ...             5  \n",
       "1  dear friend mine slowli lose sight pen make po...             5  \n",
       "2  absolut exquisit made cardboard like descript ...             5  \n",
       "3  realli nice use howev color saddl shimmer give...             5  \n",
       "4  angel beauti glad chose one even beauti look o...             4  "
      ]
     },
     "execution_count": 13,
     "metadata": {},
     "output_type": "execute_result"
    }
   ],
   "source": [
    "tqdm.pandas()\n",
    "df['vader_rating'] = df['reviewText'].progress_apply(generate_rating)\n",
    "df.head()"
   ]
  },
  {
   "cell_type": "code",
   "execution_count": 14,
   "id": "47677076",
   "metadata": {},
   "outputs": [
    {
     "data": {
      "text/html": [
       "<div>\n",
       "<style scoped>\n",
       "    .dataframe tbody tr th:only-of-type {\n",
       "        vertical-align: middle;\n",
       "    }\n",
       "\n",
       "    .dataframe tbody tr th {\n",
       "        vertical-align: top;\n",
       "    }\n",
       "\n",
       "    .dataframe thead th {\n",
       "        text-align: right;\n",
       "    }\n",
       "</style>\n",
       "<table border=\"1\" class=\"dataframe\">\n",
       "  <thead>\n",
       "    <tr style=\"text-align: right;\">\n",
       "      <th></th>\n",
       "      <th>overall</th>\n",
       "      <th>vader_rating</th>\n",
       "    </tr>\n",
       "  </thead>\n",
       "  <tbody>\n",
       "    <tr>\n",
       "      <th>count</th>\n",
       "      <td>179642.000000</td>\n",
       "      <td>179642.000000</td>\n",
       "    </tr>\n",
       "    <tr>\n",
       "      <th>mean</th>\n",
       "      <td>4.088621</td>\n",
       "      <td>4.172721</td>\n",
       "    </tr>\n",
       "    <tr>\n",
       "      <th>std</th>\n",
       "      <td>1.307608</td>\n",
       "      <td>1.393277</td>\n",
       "    </tr>\n",
       "    <tr>\n",
       "      <th>min</th>\n",
       "      <td>1.000000</td>\n",
       "      <td>1.000000</td>\n",
       "    </tr>\n",
       "    <tr>\n",
       "      <th>25%</th>\n",
       "      <td>4.000000</td>\n",
       "      <td>4.000000</td>\n",
       "    </tr>\n",
       "    <tr>\n",
       "      <th>50%</th>\n",
       "      <td>5.000000</td>\n",
       "      <td>5.000000</td>\n",
       "    </tr>\n",
       "    <tr>\n",
       "      <th>75%</th>\n",
       "      <td>5.000000</td>\n",
       "      <td>5.000000</td>\n",
       "    </tr>\n",
       "    <tr>\n",
       "      <th>max</th>\n",
       "      <td>5.000000</td>\n",
       "      <td>5.000000</td>\n",
       "    </tr>\n",
       "  </tbody>\n",
       "</table>\n",
       "</div>"
      ],
      "text/plain": [
       "             overall   vader_rating\n",
       "count  179642.000000  179642.000000\n",
       "mean        4.088621       4.172721\n",
       "std         1.307608       1.393277\n",
       "min         1.000000       1.000000\n",
       "25%         4.000000       4.000000\n",
       "50%         5.000000       5.000000\n",
       "75%         5.000000       5.000000\n",
       "max         5.000000       5.000000"
      ]
     },
     "execution_count": 14,
     "metadata": {},
     "output_type": "execute_result"
    }
   ],
   "source": [
    "df.describe()"
   ]
  },
  {
   "cell_type": "code",
   "execution_count": 15,
   "id": "2c6b0b3e",
   "metadata": {},
   "outputs": [],
   "source": [
    "df.to_csv('../Data/vader.csv', index=False)"
   ]
  }
 ],
 "metadata": {
  "kernelspec": {
   "display_name": "gpu2",
   "language": "python",
   "name": "gpu2"
  },
  "language_info": {
   "codemirror_mode": {
    "name": "ipython",
    "version": 3
   },
   "file_extension": ".py",
   "mimetype": "text/x-python",
   "name": "python",
   "nbconvert_exporter": "python",
   "pygments_lexer": "ipython3",
   "version": "3.10.6"
  }
 },
 "nbformat": 4,
 "nbformat_minor": 5
}
