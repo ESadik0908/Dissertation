{
 "cells": [
  {
   "cell_type": "code",
   "execution_count": 31,
   "id": "fe62fa65",
   "metadata": {},
   "outputs": [
    {
     "name": "stdout",
     "output_type": "stream",
     "text": [
      "   overall                                         reviewText        asin  \\\n",
      "0        5  I don't spend a lot on my flags because they r...  9539723809   \n",
      "1        5  Super fast processing and shipping, if you are...  9539723809   \n",
      "2        5  Great product.  I would recommend this product...  9539723809   \n",
      "3        5            GREAT PRICE I LOVE MY STATE AND COUNTRY  9539723809   \n",
      "4        5                    Great display flag for the den.  9539723809   \n",
      "\n",
      "   sentiment  \n",
      "0     0.9514  \n",
      "1     0.8748  \n",
      "2     0.8442  \n",
      "3     0.8519  \n",
      "4     0.6249  \n"
     ]
    }
   ],
   "source": [
    "import pandas as pd\n",
    "df = pd.read_csv('../Data/reviews_with_sentiment.csv')\n",
    "print(df.head())"
   ]
  },
  {
   "cell_type": "code",
   "execution_count": 32,
   "id": "4f5a8279",
   "metadata": {},
   "outputs": [],
   "source": [
    "from tqdm import tqdm\n",
    "import matplotlib.pyplot as plt"
   ]
  },
  {
   "cell_type": "code",
   "execution_count": 33,
   "id": "4a003328",
   "metadata": {},
   "outputs": [],
   "source": [
    "def catagorise_data(sentiment):\n",
    "    if sentiment >=-1 and sentiment < -0.5:\n",
    "        return 1\n",
    "    \n",
    "    if sentiment >= -0.5 and sentiment < 0:\n",
    "        return 2\n",
    "    \n",
    "    if sentiment == 0:\n",
    "        return 3\n",
    "    \n",
    "    if sentiment > 0 and sentiment < 0.5:\n",
    "        return 4\n",
    "    \n",
    "    if sentiment >= 0.5 and sentiment <= 1:\n",
    "        return 5"
   ]
  },
  {
   "cell_type": "code",
   "execution_count": 34,
   "id": "a333f88a",
   "metadata": {},
   "outputs": [
    {
     "name": "stderr",
     "output_type": "stream",
     "text": [
      "100%|███████████████████████████████████████████████████████████████████████| 798229/798229 [00:55<00:00, 14315.47it/s]\n"
     ]
    }
   ],
   "source": [
    "newReviews = []\n",
    "for i in tqdm(range(len(df))):\n",
    "    ss = df.iloc[i]['sentiment']\n",
    "    newReviews.append(catagorise_data(ss))"
   ]
  },
  {
   "cell_type": "code",
   "execution_count": 35,
   "id": "8042ee4d",
   "metadata": {},
   "outputs": [],
   "source": [
    "df['new_overall'] = newReviews"
   ]
  },
  {
   "cell_type": "code",
   "execution_count": 36,
   "id": "6b620ccf",
   "metadata": {},
   "outputs": [
    {
     "data": {
      "text/html": [
       "<div>\n",
       "<style scoped>\n",
       "    .dataframe tbody tr th:only-of-type {\n",
       "        vertical-align: middle;\n",
       "    }\n",
       "\n",
       "    .dataframe tbody tr th {\n",
       "        vertical-align: top;\n",
       "    }\n",
       "\n",
       "    .dataframe thead th {\n",
       "        text-align: right;\n",
       "    }\n",
       "</style>\n",
       "<table border=\"1\" class=\"dataframe\">\n",
       "  <thead>\n",
       "    <tr style=\"text-align: right;\">\n",
       "      <th></th>\n",
       "      <th>overall</th>\n",
       "      <th>reviewText</th>\n",
       "      <th>asin</th>\n",
       "      <th>sentiment</th>\n",
       "      <th>new_overall</th>\n",
       "    </tr>\n",
       "  </thead>\n",
       "  <tbody>\n",
       "    <tr>\n",
       "      <th>0</th>\n",
       "      <td>5</td>\n",
       "      <td>I don't spend a lot on my flags because they r...</td>\n",
       "      <td>9539723809</td>\n",
       "      <td>0.9514</td>\n",
       "      <td>5</td>\n",
       "    </tr>\n",
       "    <tr>\n",
       "      <th>1</th>\n",
       "      <td>5</td>\n",
       "      <td>Super fast processing and shipping, if you are...</td>\n",
       "      <td>9539723809</td>\n",
       "      <td>0.8748</td>\n",
       "      <td>5</td>\n",
       "    </tr>\n",
       "    <tr>\n",
       "      <th>2</th>\n",
       "      <td>5</td>\n",
       "      <td>Great product.  I would recommend this product...</td>\n",
       "      <td>9539723809</td>\n",
       "      <td>0.8442</td>\n",
       "      <td>5</td>\n",
       "    </tr>\n",
       "    <tr>\n",
       "      <th>3</th>\n",
       "      <td>5</td>\n",
       "      <td>GREAT PRICE I LOVE MY STATE AND COUNTRY</td>\n",
       "      <td>9539723809</td>\n",
       "      <td>0.8519</td>\n",
       "      <td>5</td>\n",
       "    </tr>\n",
       "    <tr>\n",
       "      <th>4</th>\n",
       "      <td>5</td>\n",
       "      <td>Great display flag for the den.</td>\n",
       "      <td>9539723809</td>\n",
       "      <td>0.6249</td>\n",
       "      <td>5</td>\n",
       "    </tr>\n",
       "  </tbody>\n",
       "</table>\n",
       "</div>"
      ],
      "text/plain": [
       "   overall                                         reviewText        asin  \\\n",
       "0        5  I don't spend a lot on my flags because they r...  9539723809   \n",
       "1        5  Super fast processing and shipping, if you are...  9539723809   \n",
       "2        5  Great product.  I would recommend this product...  9539723809   \n",
       "3        5            GREAT PRICE I LOVE MY STATE AND COUNTRY  9539723809   \n",
       "4        5                    Great display flag for the den.  9539723809   \n",
       "\n",
       "   sentiment  new_overall  \n",
       "0     0.9514            5  \n",
       "1     0.8748            5  \n",
       "2     0.8442            5  \n",
       "3     0.8519            5  \n",
       "4     0.6249            5  "
      ]
     },
     "execution_count": 36,
     "metadata": {},
     "output_type": "execute_result"
    }
   ],
   "source": [
    "df.head()"
   ]
  },
  {
   "cell_type": "code",
   "execution_count": 37,
   "id": "756d031b",
   "metadata": {},
   "outputs": [],
   "source": [
    "original = df[\"overall\"].value_counts()\n",
    "new_scores = df['new_overall'].value_counts()"
   ]
  },
  {
   "cell_type": "code",
   "execution_count": 38,
   "id": "93226cc6",
   "metadata": {},
   "outputs": [
    {
     "data": {
      "text/plain": [
       "5    533459\n",
       "4    123368\n",
       "3     57468\n",
       "1     51545\n",
       "2     32389\n",
       "Name: overall, dtype: int64"
      ]
     },
     "execution_count": 38,
     "metadata": {},
     "output_type": "execute_result"
    }
   ],
   "source": [
    "original.head()"
   ]
  },
  {
   "cell_type": "code",
   "execution_count": 39,
   "id": "9a4a46ee",
   "metadata": {},
   "outputs": [
    {
     "data": {
      "text/plain": [
       "5    451322\n",
       "4    162412\n",
       "3     81584\n",
       "2     58593\n",
       "1     44318\n",
       "Name: new_overall, dtype: int64"
      ]
     },
     "execution_count": 39,
     "metadata": {},
     "output_type": "execute_result"
    }
   ],
   "source": [
    "new_scores"
   ]
  },
  {
   "cell_type": "code",
   "execution_count": 40,
   "id": "e850147b",
   "metadata": {},
   "outputs": [
    {
     "data": {
      "image/png": "[encoded data removed]",
      "text/plain": [
       "<Figure size 640x480 with 1 Axes>"
      ]
     },
     "metadata": {},
     "output_type": "display_data"
    }
   ],
   "source": [
    "fig, ax = plt.subplots()\n",
    "\n",
    "# Plot the first bar chart\n",
    "ax.bar([5,4,3,2,1], original, label='Original Ratings', color='orange')\n",
    "\n",
    "# Plot the second bar chart on top of the first one\n",
    "ax.bar([5,4,3,2,1], new_scores, label='New Ratings', color='blue', alpha=0.5)\n",
    "\n",
    "ax.set_xlabel('Rating')\n",
    "ax.set_ylabel('Number of reviews')\n",
    "ax.set_title('Comparing new ratings to original ratings')\n",
    "ax.legend()\n",
    "\n",
    "plt.show()"
   ]
  },
  {
   "cell_type": "code",
   "execution_count": 41,
   "id": "0ab20142",
   "metadata": {
    "scrolled": true
   },
   "outputs": [
    {
     "name": "stdout",
     "output_type": "stream",
     "text": [
      "5    352229\n",
      "4    100129\n",
      "3     46940\n",
      "2     20727\n",
      "1     13434\n",
      "Name: new_overall, dtype: int64 \n",
      " 533459 \n",
      "\n",
      "5    0.660274\n",
      "4    0.187698\n",
      "3    0.087992\n",
      "2    0.038854\n",
      "1    0.025183\n",
      "Name: new_overall, dtype: float64 \n",
      " 1.0\n"
     ]
    }
   ],
   "source": [
    "five_stars = df[(df['overall'] == 5)]\n",
    "redistributedFiveStars = five_stars['new_overall'].value_counts()\n",
    "total = redistributedFiveStars.sum()\n",
    "print(redistributedFiveStars, '\\n', redistributedFiveStars.sum(), '\\n')\n",
    "for i in range(1, 6):\n",
    "    redistributedFiveStars[i] /= total\n",
    "print(redistributedFiveStars,'\\n', redistributedFiveStars.sum())"
   ]
  },
  {
   "cell_type": "code",
   "execution_count": 42,
   "id": "01f5baf5",
   "metadata": {},
   "outputs": [
    {
     "name": "stdout",
     "output_type": "stream",
     "text": [
      "5    64354\n",
      "4    32259\n",
      "3    12204\n",
      "2     8876\n",
      "1     5675\n",
      "Name: new_overall, dtype: int64 \n",
      " 123368 \n",
      "\n",
      "5    0.521643\n",
      "4    0.261486\n",
      "3    0.098924\n",
      "2    0.071947\n",
      "1    0.046001\n",
      "Name: new_overall, dtype: float64 \n",
      " 1.0\n"
     ]
    }
   ],
   "source": [
    "four_stars = df[(df['overall'] == 4)]\n",
    "redistributedFourStars = four_stars['new_overall'].value_counts()\n",
    "total = redistributedFourStars.sum()\n",
    "print(redistributedFourStars, '\\n', redistributedFourStars.sum(), '\\n')\n",
    "for i in range(1, 6):\n",
    "    redistributedFourStars[i] /= total\n",
    "print(redistributedFourStars,'\\n', redistributedFourStars.sum())"
   ]
  },
  {
   "cell_type": "code",
   "execution_count": 43,
   "id": "933eb8a8",
   "metadata": {},
   "outputs": [
    {
     "name": "stdout",
     "output_type": "stream",
     "text": [
      "5    18783\n",
      "4    15042\n",
      "2     9523\n",
      "3     7994\n",
      "1     6126\n",
      "Name: new_overall, dtype: int64 \n",
      " 57468 \n",
      "\n",
      "5    0.326843\n",
      "4    0.261746\n",
      "2    0.165710\n",
      "3    0.139104\n",
      "1    0.106598\n",
      "Name: new_overall, dtype: float64 \n",
      " 0.9999999999999999\n"
     ]
    }
   ],
   "source": [
    "three_stars = df[(df['overall'] == 3)]\n",
    "redistributedThreeStars = three_stars['new_overall'].value_counts()\n",
    "total = redistributedThreeStars.sum()\n",
    "print(redistributedThreeStars, '\\n', redistributedThreeStars.sum(), '\\n')\n",
    "for i in range(1, 6):\n",
    "    redistributedThreeStars[i] /= total\n",
    "print(redistributedThreeStars,'\\n', redistributedThreeStars.sum())"
   ]
  },
  {
   "cell_type": "code",
   "execution_count": 44,
   "id": "e650addf",
   "metadata": {},
   "outputs": [
    {
     "name": "stdout",
     "output_type": "stream",
     "text": [
      "2    7436\n",
      "5    7400\n",
      "4    6581\n",
      "1    6010\n",
      "3    4962\n",
      "Name: new_overall, dtype: int64 \n",
      " 32389 \n",
      "\n",
      "2    0.229584\n",
      "5    0.228473\n",
      "4    0.203186\n",
      "1    0.185557\n",
      "3    0.153200\n",
      "Name: new_overall, dtype: float64 \n",
      " 1.0\n"
     ]
    }
   ],
   "source": [
    "two_stars = df[(df['overall'] == 2)]\n",
    "redistributedTwoStars = two_stars['new_overall'].value_counts()\n",
    "total = redistributedTwoStars.sum()\n",
    "print(redistributedTwoStars, '\\n', redistributedTwoStars.sum(), '\\n')\n",
    "for i in range(1, 6):\n",
    "    redistributedTwoStars[i] /= total\n",
    "print(redistributedTwoStars,'\\n', redistributedTwoStars.sum())"
   ]
  },
  {
   "cell_type": "code",
   "execution_count": 45,
   "id": "c77ace77",
   "metadata": {},
   "outputs": [
    {
     "name": "stdout",
     "output_type": "stream",
     "text": [
      "1    13073\n",
      "2    12031\n",
      "3     9484\n",
      "5     8556\n",
      "4     8401\n",
      "Name: new_overall, dtype: int64 \n",
      " 51545 \n",
      "\n",
      "1    0.253623\n",
      "2    0.233408\n",
      "3    0.183995\n",
      "5    0.165991\n",
      "4    0.162984\n",
      "Name: new_overall, dtype: float64 \n",
      " 1.0\n"
     ]
    }
   ],
   "source": [
    "one_star = df[(df['overall'] == 1)]\n",
    "redistributedOneStar = one_star['new_overall'].value_counts()\n",
    "total = redistributedOneStar.sum()\n",
    "print(redistributedOneStar, '\\n', redistributedOneStar.sum(), '\\n')\n",
    "for i in range(1, 6):\n",
    "    redistributedOneStar[i] /= total\n",
    "print(redistributedOneStar,'\\n', redistributedOneStar.sum())"
   ]
  },
  {
   "cell_type": "code",
   "execution_count": 48,
   "id": "28013fd4",
   "metadata": {},
   "outputs": [
    {
     "name": "stdout",
     "output_type": "stream",
     "text": [
      "['9539723809' 'B00000JSZH' 'B0000224PU' ... 'B01H1OSPMM' 'B01H54DOQA'\n",
      " 'B01H6O0UP2']\n",
      "32918\n"
     ]
    }
   ],
   "source": [
    "\n",
    "print(productItems)\n",
    "print(len(productItems))"
   ]
  },
  {
   "cell_type": "code",
   "execution_count": 58,
   "id": "f41ae3ea",
   "metadata": {},
   "outputs": [
    {
     "name": "stderr",
     "output_type": "stream",
     "text": [
      "100%|████████████████████████████████████████████████████████████████████████████| 32918/32918 [23:15<00:00, 23.59it/s]\n"
     ]
    }
   ],
   "source": [
    "productItems = df['asin'].unique()\n",
    "compareAverage = pd.DataFrame({\n",
    "    'productId' :[],\n",
    "    'originalAverage' :[],\n",
    "    'newAverage' :[]\n",
    "})\n",
    "for curItem in tqdm(productItems):\n",
    "    itemScores = df[(df['asin'] == curItem)]\n",
    "    new_row = pd.Series({'productId':curItem, \n",
    "                         'originalAverage': itemScores['overall'].mean(), \n",
    "                         'newAverage': itemScores['new_overall'].mean()})\n",
    "    compareAverage = pd.concat([compareAverage, new_row.to_frame().T], ignore_index=True)\n"
   ]
  },
  {
   "cell_type": "code",
   "execution_count": 59,
   "id": "e3230e6f",
   "metadata": {},
   "outputs": [
    {
     "data": {
      "text/html": [
       "<div>\n",
       "<style scoped>\n",
       "    .dataframe tbody tr th:only-of-type {\n",
       "        vertical-align: middle;\n",
       "    }\n",
       "\n",
       "    .dataframe tbody tr th {\n",
       "        vertical-align: top;\n",
       "    }\n",
       "\n",
       "    .dataframe thead th {\n",
       "        text-align: right;\n",
       "    }\n",
       "</style>\n",
       "<table border=\"1\" class=\"dataframe\">\n",
       "  <thead>\n",
       "    <tr style=\"text-align: right;\">\n",
       "      <th></th>\n",
       "      <th>productId</th>\n",
       "      <th>originalAverage</th>\n",
       "      <th>newAverage</th>\n",
       "    </tr>\n",
       "  </thead>\n",
       "  <tbody>\n",
       "    <tr>\n",
       "      <th>0</th>\n",
       "      <td>9539723809</td>\n",
       "      <td>4.888889</td>\n",
       "      <td>5.0</td>\n",
       "    </tr>\n",
       "    <tr>\n",
       "      <th>1</th>\n",
       "      <td>B00000JSZH</td>\n",
       "      <td>4.848485</td>\n",
       "      <td>4.575758</td>\n",
       "    </tr>\n",
       "    <tr>\n",
       "      <th>2</th>\n",
       "      <td>B0000224PU</td>\n",
       "      <td>4.833333</td>\n",
       "      <td>4.166667</td>\n",
       "    </tr>\n",
       "    <tr>\n",
       "      <th>3</th>\n",
       "      <td>B00002N66T</td>\n",
       "      <td>4.419355</td>\n",
       "      <td>4.225806</td>\n",
       "    </tr>\n",
       "    <tr>\n",
       "      <th>4</th>\n",
       "      <td>B00002N66Z</td>\n",
       "      <td>2.428571</td>\n",
       "      <td>2.571429</td>\n",
       "    </tr>\n",
       "  </tbody>\n",
       "</table>\n",
       "</div>"
      ],
      "text/plain": [
       "    productId originalAverage newAverage\n",
       "0  9539723809        4.888889        5.0\n",
       "1  B00000JSZH        4.848485   4.575758\n",
       "2  B0000224PU        4.833333   4.166667\n",
       "3  B00002N66T        4.419355   4.225806\n",
       "4  B00002N66Z        2.428571   2.571429"
      ]
     },
     "execution_count": 59,
     "metadata": {},
     "output_type": "execute_result"
    }
   ],
   "source": [
    "compareAverage.head()"
   ]
  },
  {
   "cell_type": "code",
   "execution_count": 64,
   "id": "5808f158",
   "metadata": {},
   "outputs": [
    {
     "name": "stderr",
     "output_type": "stream",
     "text": [
      "100%|█████████████████████████████████████████████████████████████████████████| 32918/32918 [00:02<00:00, 14143.94it/s]"
     ]
    },
    {
     "name": "stdout",
     "output_type": "stream",
     "text": [
      "0.12526335871066538\n"
     ]
    },
    {
     "name": "stderr",
     "output_type": "stream",
     "text": [
      "\n"
     ]
    }
   ],
   "source": [
    "averageDiff = 0\n",
    "for i in tqdm(range(len(compareAverage))):\n",
    "    averageDiff += compareAverage.iloc[i]['originalAverage'] - compareAverage.iloc[i]['newAverage']\n",
    "    \n",
    "print(averageDiff/len(compareAverage))"
   ]
  }
 ],
 "metadata": {
  "kernelspec": {
   "display_name": "gpu2",
   "language": "python",
   "name": "gpu2"
  },
  "language_info": {
   "codemirror_mode": {
    "name": "ipython",
    "version": 3
   },
   "file_extension": ".py",
   "mimetype": "text/x-python",
   "name": "python",
   "nbconvert_exporter": "python",
   "pygments_lexer": "ipython3",
   "version": "3.10.6"
  }
 },
 "nbformat": 4,
 "nbformat_minor": 5
}
