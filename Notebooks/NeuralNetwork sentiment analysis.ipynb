{
 "cells": [
  {
   "cell_type": "code",
   "execution_count": 206,
   "id": "eeb6f096",
   "metadata": {},
   "outputs": [],
   "source": [
    "import numpy as np\n",
    "import pandas as pd\n",
    "import matplotlib.pyplot as plt\n",
    "import tensorflow as tf\n",
    "\n",
    "from tensorflow.python.client import device_lib\n",
    "\n",
    "from sklearn.feature_extraction.text import CountVectorizer"
   ]
  },
  {
   "cell_type": "code",
   "execution_count": 207,
   "id": "4368e52f",
   "metadata": {},
   "outputs": [
    {
     "data": {
      "text/plain": [
       "[name: \"/device:CPU:0\"\n",
       " device_type: \"CPU\"\n",
       " memory_limit: 268435456\n",
       " locality {\n",
       " }\n",
       " incarnation: 15903353417472668729\n",
       " xla_global_id: -1,\n",
       " name: \"/device:GPU:0\"\n",
       " device_type: \"GPU\"\n",
       " memory_limit: 6242172928\n",
       " locality {\n",
       "   bus_id: 1\n",
       "   links {\n",
       "   }\n",
       " }\n",
       " incarnation: 9368971401068029883\n",
       " physical_device_desc: \"device: 0, name: NVIDIA GeForce RTX 2080, pci bus id: 0000:01:00.0, compute capability: 7.5\"\n",
       " xla_global_id: 416903419]"
      ]
     },
     "execution_count": 207,
     "metadata": {},
     "output_type": "execute_result"
    }
   ],
   "source": [
    "device_lib.list_local_devices()"
   ]
  },
  {
   "cell_type": "code",
   "execution_count": 208,
   "id": "f82d5af7",
   "metadata": {},
   "outputs": [],
   "source": [
    "def plot_graphs(history, metric):\n",
    "  plt.plot(history.history[metric])\n",
    "  plt.plot(history.history['val_'+metric], '')\n",
    "  plt.xlabel(\"Epochs\")\n",
    "  plt.ylabel(metric)\n",
    "  plt.legend([metric, 'val_'+metric])\n"
   ]
  },
  {
   "cell_type": "code",
   "execution_count": 209,
   "id": "5e92fb8e",
   "metadata": {},
   "outputs": [
    {
     "data": {
      "text/html": [
       "<div>\n",
       "<style scoped>\n",
       "    .dataframe tbody tr th:only-of-type {\n",
       "        vertical-align: middle;\n",
       "    }\n",
       "\n",
       "    .dataframe tbody tr th {\n",
       "        vertical-align: top;\n",
       "    }\n",
       "\n",
       "    .dataframe thead th {\n",
       "        text-align: right;\n",
       "    }\n",
       "</style>\n",
       "<table border=\"1\" class=\"dataframe\">\n",
       "  <thead>\n",
       "    <tr style=\"text-align: right;\">\n",
       "      <th></th>\n",
       "      <th>overall</th>\n",
       "      <th>reviewText</th>\n",
       "      <th>asin</th>\n",
       "      <th>sentiment</th>\n",
       "    </tr>\n",
       "  </thead>\n",
       "  <tbody>\n",
       "    <tr>\n",
       "      <th>0</th>\n",
       "      <td>5</td>\n",
       "      <td>I don't spend a lot on my flags because they r...</td>\n",
       "      <td>9539723809</td>\n",
       "      <td>0.9514</td>\n",
       "    </tr>\n",
       "    <tr>\n",
       "      <th>1</th>\n",
       "      <td>5</td>\n",
       "      <td>Super fast processing and shipping, if you are...</td>\n",
       "      <td>9539723809</td>\n",
       "      <td>0.8748</td>\n",
       "    </tr>\n",
       "    <tr>\n",
       "      <th>2</th>\n",
       "      <td>5</td>\n",
       "      <td>Great product.  I would recommend this product...</td>\n",
       "      <td>9539723809</td>\n",
       "      <td>0.8442</td>\n",
       "    </tr>\n",
       "    <tr>\n",
       "      <th>3</th>\n",
       "      <td>5</td>\n",
       "      <td>GREAT PRICE I LOVE MY STATE AND COUNTRY</td>\n",
       "      <td>9539723809</td>\n",
       "      <td>0.8519</td>\n",
       "    </tr>\n",
       "    <tr>\n",
       "      <th>4</th>\n",
       "      <td>5</td>\n",
       "      <td>Great display flag for the den.</td>\n",
       "      <td>9539723809</td>\n",
       "      <td>0.6249</td>\n",
       "    </tr>\n",
       "  </tbody>\n",
       "</table>\n",
       "</div>"
      ],
      "text/plain": [
       "   overall                                         reviewText        asin  \\\n",
       "0        5  I don't spend a lot on my flags because they r...  9539723809   \n",
       "1        5  Super fast processing and shipping, if you are...  9539723809   \n",
       "2        5  Great product.  I would recommend this product...  9539723809   \n",
       "3        5            GREAT PRICE I LOVE MY STATE AND COUNTRY  9539723809   \n",
       "4        5                    Great display flag for the den.  9539723809   \n",
       "\n",
       "   sentiment  \n",
       "0     0.9514  \n",
       "1     0.8748  \n",
       "2     0.8442  \n",
       "3     0.8519  \n",
       "4     0.6249  "
      ]
     },
     "execution_count": 209,
     "metadata": {},
     "output_type": "execute_result"
    }
   ],
   "source": [
    "df = pd.read_csv('../Data/reviews_with_sentiment.csv')\n",
    "df.head()"
   ]
  },
  {
   "cell_type": "code",
   "execution_count": 210,
   "id": "3fb2a42d",
   "metadata": {},
   "outputs": [],
   "source": [
    "train_text, test_text, train_y, test_y = train_test_split(df['reviewText'].values,df['overall'].values, test_size=0.25, random_state=1000)"
   ]
  },
  {
   "cell_type": "code",
   "execution_count": 211,
   "id": "dd64299a",
   "metadata": {},
   "outputs": [
    {
     "data": {
      "text/plain": [
       "array([[0., 0., 0., 0., 1., 0.],\n",
       "       [0., 1., 0., 0., 0., 0.],\n",
       "       [0., 0., 0., 0., 1., 0.],\n",
       "       ...,\n",
       "       [0., 0., 0., 0., 0., 1.],\n",
       "       [0., 0., 0., 0., 0., 1.],\n",
       "       [0., 0., 0., 0., 0., 1.]], dtype=float32)"
      ]
     },
     "execution_count": 211,
     "metadata": {},
     "output_type": "execute_result"
    }
   ],
   "source": [
    "train_y = to_categorical(train_y)\n",
    "test_y = to_categorical(test_y)\n",
    "\n",
    "train_y"
   ]
  },
  {
   "cell_type": "code",
   "execution_count": 212,
   "id": "2dba3d44",
   "metadata": {},
   "outputs": [],
   "source": [
    "from keras.preprocessing.text import Tokenizer\n",
    "\n",
    "tokenizer = Tokenizer(num_words=5000)\n",
    "tokenizer.fit_on_texts(train_text)\n",
    "\n",
    "train_x = tokenizer.texts_to_sequences(train_text)\n",
    "test_x = tokenizer.texts_to_sequences(test_text)\n",
    "\n",
    "vocab_size = len(tokenizer.word_index) + 1"
   ]
  },
  {
   "cell_type": "code",
   "execution_count": 213,
   "id": "b25644d6",
   "metadata": {},
   "outputs": [
    {
     "name": "stdout",
     "output_type": "stream",
     "text": [
      "Arrived in a little box with three leaves. I repotted it and put in a sunny window do to wintertime here now. It has taken off producing a new leaf every week. Looks good and healthy. Happy with this purchase.\n",
      "[273, 11, 5, 73, 215, 14, 292, 284, 3, 6, 2, 89, 11, 5, 2294, 675, 60, 4, 274, 91, 6, 59, 1299, 75, 3326, 5, 132, 831, 178, 314, 162, 30, 2, 766, 191, 14, 8, 226]\n"
     ]
    }
   ],
   "source": [
    "print(train_text[2])\n",
    "\n",
    "print(train_x[2])"
   ]
  },
  {
   "cell_type": "code",
   "execution_count": 214,
   "id": "6b8717dd",
   "metadata": {},
   "outputs": [
    {
     "name": "stdout",
     "output_type": "stream",
     "text": [
      "testing: 1794\n",
      "if: 37\n",
      "words: 2352\n",
      "token: 37365\n"
     ]
    }
   ],
   "source": [
    "for word in ['testing', 'if', 'words', 'token']:\n",
    "    print('{}: {}'.format(word, tokenizer.word_index[word]))"
   ]
  },
  {
   "cell_type": "code",
   "execution_count": 215,
   "id": "554ba634",
   "metadata": {},
   "outputs": [
    {
     "name": "stdout",
     "output_type": "stream",
     "text": [
      "[ 221   63  208   26  714   37   19  416  143   17   18  143    4  575\n",
      "  868   11    5 2757  519    0    0    0    0    0    0    0    0    0\n",
      "    0    0    0    0    0    0    0    0    0    0    0    0    0    0\n",
      "    0    0    0    0    0    0    0    0    0    0    0    0    0    0\n",
      "    0    0    0    0    0    0    0    0    0    0    0    0    0    0\n",
      "    0    0    0    0    0    0    0    0    0    0    0    0    0    0\n",
      "    0    0    0    0    0    0    0    0    0    0    0    0    0    0\n",
      "    0    0]\n"
     ]
    }
   ],
   "source": [
    "from keras.utils import pad_sequences\n",
    "\n",
    "maxlen = 100\n",
    "\n",
    "train_x = pad_sequences(train_x, padding='post', maxlen=maxlen)\n",
    "test_x = pad_sequences(test_x, padding='post', maxlen=maxlen)\n",
    "\n",
    "print(train_x[0, :])"
   ]
  },
  {
   "cell_type": "code",
   "execution_count": 216,
   "id": "138f7155",
   "metadata": {},
   "outputs": [
    {
     "name": "stdout",
     "output_type": "stream",
     "text": [
      "Model: \"sequential_15\"\n",
      "_________________________________________________________________\n",
      " Layer (type)                Output Shape              Param #   \n",
      "=================================================================\n",
      " embedding_6 (Embedding)     (None, 100, 100)          11027800  \n",
      "                                                                 \n",
      " conv1d_5 (Conv1D)           (None, 96, 128)           64128     \n",
      "                                                                 \n",
      " global_max_pooling1d_3 (Glo  (None, 128)              0         \n",
      " balMaxPooling1D)                                                \n",
      "                                                                 \n",
      " dense_23 (Dense)            (None, 10)                1290      \n",
      "                                                                 \n",
      " dense_24 (Dense)            (None, 6)                 66        \n",
      "                                                                 \n",
      "=================================================================\n",
      "Total params: 11,093,284\n",
      "Trainable params: 11,093,284\n",
      "Non-trainable params: 0\n",
      "_________________________________________________________________\n"
     ]
    }
   ],
   "source": [
    "embedding_dim = 100\n",
    "\n",
    "model = Sequential()\n",
    "model.add(layers.Embedding(vocab_size, embedding_dim, input_length=maxlen))\n",
    "model.add(layers.Conv1D(128, 5, activation='relu'))\n",
    "model.add(layers.GlobalMaxPooling1D())\n",
    "model.add(layers.Dense(10, activation='relu'))\n",
    "model.add(layers.Dense(6, activation='sigmoid'))\n",
    "model.compile(optimizer='adam',\n",
    "              loss='binary_crossentropy',\n",
    "              metrics=['accuracy'])\n",
    "model.summary()\n"
   ]
  },
  {
   "cell_type": "code",
   "execution_count": 217,
   "id": "09cb60c3",
   "metadata": {},
   "outputs": [
    {
     "name": "stdout",
     "output_type": "stream",
     "text": [
      "Epoch 1/10\n",
      "59868/59868 [==============================] - 625s 10ms/step - loss: 0.2049 - accuracy: 0.7331 - val_loss: 0.1999 - val_accuracy: 0.7364\n",
      "Epoch 2/10\n",
      "59868/59868 [==============================] - 550s 9ms/step - loss: 0.1893 - accuracy: 0.7534 - val_loss: 0.1950 - val_accuracy: 0.7478\n",
      "Epoch 3/10\n",
      "59868/59868 [==============================] - 550s 9ms/step - loss: 0.1802 - accuracy: 0.7663 - val_loss: 0.1919 - val_accuracy: 0.7499\n",
      "Epoch 4/10\n",
      "59868/59868 [==============================] - 553s 9ms/step - loss: 0.1713 - accuracy: 0.7797 - val_loss: 0.1970 - val_accuracy: 0.7510\n",
      "Epoch 5/10\n",
      "59868/59868 [==============================] - 551s 9ms/step - loss: 0.1624 - accuracy: 0.7930 - val_loss: 0.1978 - val_accuracy: 0.7458\n",
      "Epoch 6/10\n",
      "59868/59868 [==============================] - 550s 9ms/step - loss: 0.1538 - accuracy: 0.8060 - val_loss: 0.2049 - val_accuracy: 0.7472\n",
      "Epoch 7/10\n",
      "59868/59868 [==============================] - 556s 9ms/step - loss: 0.1458 - accuracy: 0.8179 - val_loss: 0.2089 - val_accuracy: 0.7437\n",
      "Epoch 8/10\n",
      "59868/59868 [==============================] - 552s 9ms/step - loss: 0.1386 - accuracy: 0.8279 - val_loss: 0.2164 - val_accuracy: 0.7368\n",
      "Epoch 9/10\n",
      "59868/59868 [==============================] - 552s 9ms/step - loss: 0.1319 - accuracy: 0.8380 - val_loss: 0.2293 - val_accuracy: 0.7410\n",
      "Epoch 10/10\n",
      "59868/59868 [==============================] - 551s 9ms/step - loss: 0.1258 - accuracy: 0.8459 - val_loss: 0.2323 - val_accuracy: 0.7283\n",
      "Training Accuracy: 0.8718\n",
      "Testing Accuracy:  0.7283\n"
     ]
    },
    {
     "ename": "NameError",
     "evalue": "name 'plot_history' is not defined",
     "output_type": "error",
     "traceback": [
      "\u001b[1;31m---------------------------------------------------------------------------\u001b[0m",
      "\u001b[1;31mNameError\u001b[0m                                 Traceback (most recent call last)",
      "Cell \u001b[1;32mIn[217], line 9\u001b[0m\n\u001b[0;32m      7\u001b[0m loss, accuracy \u001b[38;5;241m=\u001b[39m model\u001b[38;5;241m.\u001b[39mevaluate(test_x, test_y, verbose\u001b[38;5;241m=\u001b[39m\u001b[38;5;28;01mFalse\u001b[39;00m)\n\u001b[0;32m      8\u001b[0m \u001b[38;5;28mprint\u001b[39m(\u001b[38;5;124m\"\u001b[39m\u001b[38;5;124mTesting Accuracy:  \u001b[39m\u001b[38;5;132;01m{:.4f}\u001b[39;00m\u001b[38;5;124m\"\u001b[39m\u001b[38;5;241m.\u001b[39mformat(accuracy))\n\u001b[1;32m----> 9\u001b[0m \u001b[43mplot_history\u001b[49m(history)\n",
      "\u001b[1;31mNameError\u001b[0m: name 'plot_history' is not defined"
     ]
    }
   ],
   "source": [
    "history = model.fit(train_x, train_y,\n",
    "                    epochs=10,\n",
    "                    validation_data=(test_x, test_y),\n",
    "                    batch_size=10)"
   ]
  },
  {
   "cell_type": "code",
   "execution_count": 218,
   "id": "880dd957",
   "metadata": {},
   "outputs": [],
   "source": [
    "model.save(\"../Model/model.h5\")"
   ]
  },
  {
   "cell_type": "code",
   "execution_count": null,
   "id": "b1aa4ff2",
   "metadata": {},
   "outputs": [],
   "source": []
  }
 ],
 "metadata": {
  "kernelspec": {
   "display_name": "gpu2",
   "language": "python",
   "name": "gpu2"
  },
  "language_info": {
   "codemirror_mode": {
    "name": "ipython",
    "version": 3
   },
   "file_extension": ".py",
   "mimetype": "text/x-python",
   "name": "python",
   "nbconvert_exporter": "python",
   "pygments_lexer": "ipython3",
   "version": "3.10.6"
  }
 },
 "nbformat": 4,
 "nbformat_minor": 5
}
