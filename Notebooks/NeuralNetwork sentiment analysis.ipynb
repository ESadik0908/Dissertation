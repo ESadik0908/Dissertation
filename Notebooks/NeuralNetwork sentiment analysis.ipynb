{
 "cells": [
  {
   "cell_type": "code",
   "execution_count": 77,
   "id": "eeb6f096",
   "metadata": {},
   "outputs": [],
   "source": [
    "import numpy as np\n",
    "import pandas as pd\n",
    "import matplotlib.pyplot as plt\n",
    "import tensorflow as tf\n",
    "from sklearn.model_selection import train_test_split\n",
    "from tensorflow.keras.preprocessing.text import Tokenizer\n",
    "from keras.utils import pad_sequences\n",
    "\n",
    "\n",
    "import keras\n",
    "from keras.utils import to_categorical\n",
    "from keras import layers\n",
    "from keras.layers.regularization.dropout import Dropout\n",
    "from keras import models\n",
    "from keras.optimizers import SGD\n",
    "\n",
    "from tensorflow.python.client import device_lib\n",
    "\n",
    "from sklearn.feature_extraction.text import CountVectorizer\n",
    "\n",
    "from tqdm import tqdm"
   ]
  },
  {
   "cell_type": "code",
   "execution_count": 78,
   "id": "4368e52f",
   "metadata": {},
   "outputs": [
    {
     "data": {
      "text/plain": [
       "[name: \"/device:CPU:0\"\n",
       " device_type: \"CPU\"\n",
       " memory_limit: 268435456\n",
       " locality {\n",
       " }\n",
       " incarnation: 10496645012499826480\n",
       " xla_global_id: -1,\n",
       " name: \"/device:GPU:0\"\n",
       " device_type: \"GPU\"\n",
       " memory_limit: 5915021312\n",
       " locality {\n",
       "   bus_id: 1\n",
       "   links {\n",
       "   }\n",
       " }\n",
       " incarnation: 17941118710648559896\n",
       " physical_device_desc: \"device: 0, name: NVIDIA GeForce RTX 2080, pci bus id: 0000:01:00.0, compute capability: 7.5\"\n",
       " xla_global_id: 416903419]"
      ]
     },
     "execution_count": 78,
     "metadata": {},
     "output_type": "execute_result"
    }
   ],
   "source": [
    "device_lib.list_local_devices()"
   ]
  },
  {
   "cell_type": "code",
   "execution_count": 79,
   "id": "f82d5af7",
   "metadata": {},
   "outputs": [],
   "source": [
    "def plot_graphs(history, metric):\n",
    "  plt.plot(history.history[metric])\n",
    "  plt.plot(history.history['val_'+metric], '')\n",
    "  plt.xlabel(\"Epochs\")\n",
    "  plt.ylabel(metric)\n",
    "  plt.legend([metric, 'val_'+metric])\n"
   ]
  },
  {
   "cell_type": "code",
   "execution_count": 80,
   "id": "5e92fb8e",
   "metadata": {},
   "outputs": [
    {
     "data": {
      "text/html": [
       "<div>\n",
       "<style scoped>\n",
       "    .dataframe tbody tr th:only-of-type {\n",
       "        vertical-align: middle;\n",
       "    }\n",
       "\n",
       "    .dataframe tbody tr th {\n",
       "        vertical-align: top;\n",
       "    }\n",
       "\n",
       "    .dataframe thead th {\n",
       "        text-align: right;\n",
       "    }\n",
       "</style>\n",
       "<table border=\"1\" class=\"dataframe\">\n",
       "  <thead>\n",
       "    <tr style=\"text-align: right;\">\n",
       "      <th></th>\n",
       "      <th>overall</th>\n",
       "      <th>reviewText</th>\n",
       "      <th>asin</th>\n",
       "      <th>sentiment</th>\n",
       "    </tr>\n",
       "  </thead>\n",
       "  <tbody>\n",
       "    <tr>\n",
       "      <th>0</th>\n",
       "      <td>5</td>\n",
       "      <td>I don't spend a lot on my flags because they r...</td>\n",
       "      <td>9539723809</td>\n",
       "      <td>0.9514</td>\n",
       "    </tr>\n",
       "    <tr>\n",
       "      <th>1</th>\n",
       "      <td>5</td>\n",
       "      <td>Super fast processing and shipping, if you are...</td>\n",
       "      <td>9539723809</td>\n",
       "      <td>0.8748</td>\n",
       "    </tr>\n",
       "    <tr>\n",
       "      <th>2</th>\n",
       "      <td>5</td>\n",
       "      <td>Great product.  I would recommend this product...</td>\n",
       "      <td>9539723809</td>\n",
       "      <td>0.8442</td>\n",
       "    </tr>\n",
       "    <tr>\n",
       "      <th>3</th>\n",
       "      <td>5</td>\n",
       "      <td>GREAT PRICE I LOVE MY STATE AND COUNTRY</td>\n",
       "      <td>9539723809</td>\n",
       "      <td>0.8519</td>\n",
       "    </tr>\n",
       "    <tr>\n",
       "      <th>4</th>\n",
       "      <td>5</td>\n",
       "      <td>Great display flag for the den.</td>\n",
       "      <td>9539723809</td>\n",
       "      <td>0.6249</td>\n",
       "    </tr>\n",
       "  </tbody>\n",
       "</table>\n",
       "</div>"
      ],
      "text/plain": [
       "   overall                                         reviewText        asin  \\\n",
       "0        5  I don't spend a lot on my flags because they r...  9539723809   \n",
       "1        5  Super fast processing and shipping, if you are...  9539723809   \n",
       "2        5  Great product.  I would recommend this product...  9539723809   \n",
       "3        5            GREAT PRICE I LOVE MY STATE AND COUNTRY  9539723809   \n",
       "4        5                    Great display flag for the den.  9539723809   \n",
       "\n",
       "   sentiment  \n",
       "0     0.9514  \n",
       "1     0.8748  \n",
       "2     0.8442  \n",
       "3     0.8519  \n",
       "4     0.6249  "
      ]
     },
     "execution_count": 80,
     "metadata": {},
     "output_type": "execute_result"
    }
   ],
   "source": [
    "df = pd.read_csv('../Data/reviews_with_sentiment.csv')\n",
    "df.head()"
   ]
  },
  {
   "cell_type": "code",
   "execution_count": 81,
   "id": "3fb2a42d",
   "metadata": {},
   "outputs": [],
   "source": [
    "train_text, test_text, train_y, test_y = train_test_split(df['reviewText'].values,df['overall'].values, test_size=0.25, random_state=1000)"
   ]
  },
  {
   "cell_type": "code",
   "execution_count": 82,
   "id": "dd64299a",
   "metadata": {},
   "outputs": [
    {
     "data": {
      "text/plain": [
       "array([[0., 0., 0., 0., 1., 0.],\n",
       "       [0., 1., 0., 0., 0., 0.],\n",
       "       [0., 0., 0., 0., 1., 0.],\n",
       "       ...,\n",
       "       [0., 0., 0., 0., 0., 1.],\n",
       "       [0., 0., 0., 0., 0., 1.],\n",
       "       [0., 0., 0., 0., 0., 1.]], dtype=float32)"
      ]
     },
     "execution_count": 82,
     "metadata": {},
     "output_type": "execute_result"
    }
   ],
   "source": [
    "train_y = to_categorical(train_y)\n",
    "test_y = to_categorical(test_y)\n",
    "\n",
    "train_y"
   ]
  },
  {
   "cell_type": "code",
   "execution_count": 83,
   "id": "2dba3d44",
   "metadata": {},
   "outputs": [],
   "source": [
    "\n",
    "tokenizer = Tokenizer(num_words=5000)\n",
    "tokenizer.fit_on_texts(train_text)\n",
    "\n",
    "train_x = tokenizer.texts_to_sequences(train_text)\n",
    "test_x = tokenizer.texts_to_sequences(test_text)\n",
    "\n",
    "vocab_size = len(tokenizer.word_index) + 1"
   ]
  },
  {
   "cell_type": "code",
   "execution_count": 84,
   "id": "b25644d6",
   "metadata": {},
   "outputs": [
    {
     "name": "stdout",
     "output_type": "stream",
     "text": [
      "Arrived in a little box with three leaves. I repotted it and put in a sunny window do to wintertime here now. It has taken off producing a new leaf every week. Looks good and healthy. Happy with this purchase.\n",
      "[273, 11, 5, 73, 215, 14, 292, 284, 3, 6, 2, 89, 11, 5, 2294, 675, 60, 4, 274, 91, 6, 59, 1299, 75, 3326, 5, 132, 831, 178, 314, 162, 30, 2, 766, 191, 14, 8, 226]\n"
     ]
    }
   ],
   "source": [
    "print(train_text[2])\n",
    "\n",
    "print(train_x[2])"
   ]
  },
  {
   "cell_type": "code",
   "execution_count": 85,
   "id": "6b8717dd",
   "metadata": {},
   "outputs": [
    {
     "name": "stdout",
     "output_type": "stream",
     "text": [
      "testing: 1794\n",
      "if: 37\n",
      "words: 2352\n",
      "token: 37365\n"
     ]
    }
   ],
   "source": [
    "for word in ['testing', 'if', 'words', 'token']:\n",
    "    print('{}: {}'.format(word, tokenizer.word_index[word]))"
   ]
  },
  {
   "cell_type": "code",
   "execution_count": 86,
   "id": "1fc5c9df",
   "metadata": {},
   "outputs": [
    {
     "name": "stdout",
     "output_type": "stream",
     "text": [
      "5255\n",
      "5090\n"
     ]
    }
   ],
   "source": [
    "print(max(map(len, train_x)))\n",
    "\n",
    "print(max(map(len, test_x)))"
   ]
  },
  {
   "cell_type": "code",
   "execution_count": 87,
   "id": "554ba634",
   "metadata": {},
   "outputs": [
    {
     "name": "stdout",
     "output_type": "stream",
     "text": [
      "[221  63 208 ...   0   0   0]\n"
     ]
    }
   ],
   "source": [
    "maxlen = 5255\n",
    "\n",
    "train_x = pad_sequences(train_x, padding='post', maxlen=maxlen)\n",
    "test_x = pad_sequences(test_x, padding='post', maxlen=maxlen)\n",
    "\n",
    "print(train_x[0, :])"
   ]
  },
  {
   "cell_type": "code",
   "execution_count": 89,
   "id": "e0485d3f",
   "metadata": {},
   "outputs": [
    {
     "name": "stdout",
     "output_type": "stream",
     "text": [
      "5255\n",
      "5255\n"
     ]
    }
   ],
   "source": [
    "print(max(map(len, train_x)))\n",
    "print(max(map(len, test_x)))"
   ]
  },
  {
   "cell_type": "code",
   "execution_count": 91,
   "id": "138f7155",
   "metadata": {},
   "outputs": [
    {
     "name": "stdout",
     "output_type": "stream",
     "text": [
      "Model: \"sequential\"\n",
      "_________________________________________________________________\n",
      " Layer (type)                Output Shape              Param #   \n",
      "=================================================================\n",
      " embedding (Embedding)       (None, 5255, 100)         11027800  \n",
      "                                                                 \n",
      " conv1d (Conv1D)             (None, 5251, 128)         64128     \n",
      "                                                                 \n",
      " global_max_pooling1d (Globa  (None, 128)              0         \n",
      " lMaxPooling1D)                                                  \n",
      "                                                                 \n",
      " dense (Dense)               (None, 10)                1290      \n",
      "                                                                 \n",
      " dense_1 (Dense)             (None, 6)                 66        \n",
      "                                                                 \n",
      "=================================================================\n",
      "Total params: 11,093,284\n",
      "Trainable params: 11,093,284\n",
      "Non-trainable params: 0\n",
      "_________________________________________________________________\n"
     ]
    }
   ],
   "source": [
    "embedding_dim = 100\n",
    "\n",
    "model = models.Sequential()\n",
    "model.add(layers.Embedding(vocab_size, embedding_dim, input_length=maxlen))\n",
    "model.add(layers.Conv1D(128, 5, activation='relu'))\n",
    "model.add(layers.GlobalMaxPooling1D())\n",
    "model.add(layers.Dense(10, activation='relu'))\n",
    "model.add(layers.Dense(6, activation='sigmoid'))\n",
    "model.compile(optimizer='adam',\n",
    "              loss='binary_crossentropy',\n",
    "              metrics=['accuracy'])\n",
    "model.summary()\n"
   ]
  },
  {
   "cell_type": "code",
   "execution_count": 92,
   "id": "09cb60c3",
   "metadata": {},
   "outputs": [
    {
     "name": "stdout",
     "output_type": "stream",
     "text": [
      "Epoch 1/10\n",
      "59868/59868 [==============================] - 1111s 18ms/step - loss: 0.2047 - accuracy: 0.7329 - val_loss: 0.2003 - val_accuracy: 0.7378\n",
      "Epoch 2/10\n",
      "59868/59868 [==============================] - 1049s 18ms/step - loss: 0.1882 - accuracy: 0.7550 - val_loss: 0.1912 - val_accuracy: 0.7520\n",
      "Epoch 3/10\n",
      "59868/59868 [==============================] - 1051s 18ms/step - loss: 0.1796 - accuracy: 0.7676 - val_loss: 0.1900 - val_accuracy: 0.7537\n",
      "Epoch 4/10\n",
      "59868/59868 [==============================] - 1050s 18ms/step - loss: 0.1709 - accuracy: 0.7808 - val_loss: 0.1950 - val_accuracy: 0.7520\n",
      "Epoch 5/10\n",
      "59868/59868 [==============================] - 1050s 18ms/step - loss: 0.1624 - accuracy: 0.7930 - val_loss: 0.1963 - val_accuracy: 0.7538\n",
      "Epoch 6/10\n",
      "59868/59868 [==============================] - 1052s 18ms/step - loss: 0.1542 - accuracy: 0.8053 - val_loss: 0.2024 - val_accuracy: 0.7494\n",
      "Epoch 7/10\n",
      "59868/59868 [==============================] - 1051s 18ms/step - loss: 0.1467 - accuracy: 0.8165 - val_loss: 0.2097 - val_accuracy: 0.7486\n",
      "Epoch 8/10\n",
      "59868/59868 [==============================] - 1053s 18ms/step - loss: 0.1399 - accuracy: 0.8264 - val_loss: 0.2170 - val_accuracy: 0.7468\n",
      "Epoch 9/10\n",
      "59868/59868 [==============================] - 1052s 18ms/step - loss: 0.1336 - accuracy: 0.8349 - val_loss: 0.2266 - val_accuracy: 0.7440\n",
      "Epoch 10/10\n",
      "59868/59868 [==============================] - 1050s 18ms/step - loss: 0.1282 - accuracy: 0.8427 - val_loss: 0.2349 - val_accuracy: 0.7420\n"
     ]
    }
   ],
   "source": [
    "history = model.fit(train_x, train_y,\n",
    "                    epochs=10,\n",
    "                    validation_data=(test_x, test_y),\n",
    "                    batch_size=10)"
   ]
  },
  {
   "cell_type": "code",
   "execution_count": 93,
   "id": "880dd957",
   "metadata": {},
   "outputs": [],
   "source": [
    "model.save(\"../Model/model.h5\")"
   ]
  },
  {
   "cell_type": "code",
   "execution_count": 95,
   "id": "b1aa4ff2",
   "metadata": {},
   "outputs": [
    {
     "data": {
      "image/png": "[encoded data removed]",
      "text/plain": [
       "<Figure size 1000x500 with 2 Axes>"
      ]
     },
     "metadata": {},
     "output_type": "display_data"
    }
   ],
   "source": [
    "plt.figure(figsize=[10,5])\n",
    "plt.subplot(121)\n",
    "plt.plot(history.history['accuracy'])\n",
    "plt.plot(history.history['val_accuracy'])\n",
    "plt.xlabel('Epoch')\n",
    "plt.ylabel('Accuracy')\n",
    "plt.legend(['Training Accuracy',\n",
    "           'Validation Accuracy'])\n",
    "plt.title('Accuracy Curves')\n",
    "\n",
    "plt.subplot(122)\n",
    "plt.plot(history.history['loss'])\n",
    "plt.plot(history.history['val_loss'])\n",
    "plt.xlabel('Epoch')\n",
    "plt.ylabel('Loss')\n",
    "plt.legend(['Training Loss',\n",
    "           'Validation Loss'])\n",
    "plt.title('Loss Curves')\n",
    "plt.show()"
   ]
  },
  {
   "cell_type": "code",
   "execution_count": 97,
   "id": "e4d8e7d0",
   "metadata": {},
   "outputs": [
    {
     "name": "stdout",
     "output_type": "stream",
     "text": [
      "6237/6237 [==============================] - 59s 9ms/step - loss: 0.2349 - accuracy: 0.7420\n",
      "Test set loss: 0.23, test set accuracy: 74.20%\n"
     ]
    }
   ],
   "source": [
    "results = model.evaluate(test_x, test_y)\n",
    "\n",
    "print(f'Test set loss: {results[0]:0.2f}, test set accuracy: {results[1]*100:0.2f}%')"
   ]
  },
  {
   "cell_type": "code",
   "execution_count": 131,
   "id": "ff48a7d4",
   "metadata": {},
   "outputs": [],
   "source": [
    "test_input = tokenizer.texts_to_sequences(\"the product is really bad, it doesnt work propperly and broke, sending back!\")"
   ]
  },
  {
   "cell_type": "code",
   "execution_count": 132,
   "id": "134a9e98",
   "metadata": {},
   "outputs": [],
   "source": [
    "test_input = pad_sequences(test_input, padding='post', maxlen=maxlen)"
   ]
  },
  {
   "cell_type": "code",
   "execution_count": 133,
   "id": "b5c34686",
   "metadata": {},
   "outputs": [
    {
     "name": "stdout",
     "output_type": "stream",
     "text": [
      "3/3 [==============================] - 0s 21ms/step\n"
     ]
    }
   ],
   "source": [
    "pred = model.predict(test_input)"
   ]
  },
  {
   "cell_type": "code",
   "execution_count": 134,
   "id": "405caad9",
   "metadata": {},
   "outputs": [],
   "source": [
    "pred_rating = tf.argmax(pred,1)"
   ]
  },
  {
   "cell_type": "code",
   "execution_count": 135,
   "id": "e611d9e0",
   "metadata": {},
   "outputs": [
    {
     "name": "stdout",
     "output_type": "stream",
     "text": [
      "tf.Tensor(\n",
      "[3 5 5 5 5 5 5 5 5 5 3 5 5 5 5 5 5 5 5 5 5 5 4 5 5 5 5 5 3 5 5 5 5 5 5 3 5\n",
      " 5 5 5 5 5 5 5 5 5 5 5 5 5 5 5 5 5 5 5 4 5 5 5 5 5 5 5 5 5 5 5 5 5 5 4 5 5\n",
      " 5 5], shape=(76,), dtype=int64)\n"
     ]
    }
   ],
   "source": [
    "print(pred_rating)"
   ]
  },
  {
   "cell_type": "code",
   "execution_count": null,
   "id": "1e29bf7d",
   "metadata": {},
   "outputs": [],
   "source": []
  }
 ],
 "metadata": {
  "kernelspec": {
   "display_name": "gpu2",
   "language": "python",
   "name": "gpu2"
  },
  "language_info": {
   "codemirror_mode": {
    "name": "ipython",
    "version": 3
   },
   "file_extension": ".py",
   "mimetype": "text/x-python",
   "name": "python",
   "nbconvert_exporter": "python",
   "pygments_lexer": "ipython3",
   "version": "3.10.6"
  }
 },
 "nbformat": 4,
 "nbformat_minor": 5
}
