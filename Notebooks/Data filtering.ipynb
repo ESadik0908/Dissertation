{
 "cells": [
  {
   "cell_type": "code",
   "execution_count": 1,
   "id": "aa1f66ac",
   "metadata": {},
   "outputs": [],
   "source": [
    "import numpy as np \n",
    "import pandas as pd\n",
    "import json\n",
    "import matplotlib.pyplot as plt\n",
    "\n",
    "import re\n",
    "import string\n",
    "\n",
    "from tqdm import tqdm"
   ]
  },
  {
   "cell_type": "markdown",
   "id": "1076d858",
   "metadata": {},
   "source": [
    "# Data Cleanup"
   ]
  },
  {
   "cell_type": "markdown",
   "id": "5ff8faa3",
   "metadata": {},
   "source": [
    "Looking at the data, we can see that there are many columns that we do not need such as the reviewers name, review time, summary etc. The columns we want are the 'reviewText', 'overall' and 'asin' columns. These represent the review, rating and product ID respectivley."
   ]
  },
  {
   "cell_type": "code",
   "execution_count": 2,
   "id": "1f8e7b7d",
   "metadata": {},
   "outputs": [
    {
     "data": {
      "text/html": [
       "<div>\n",
       "<style scoped>\n",
       "    .dataframe tbody tr th:only-of-type {\n",
       "        vertical-align: middle;\n",
       "    }\n",
       "\n",
       "    .dataframe tbody tr th {\n",
       "        vertical-align: top;\n",
       "    }\n",
       "\n",
       "    .dataframe thead th {\n",
       "        text-align: right;\n",
       "    }\n",
       "</style>\n",
       "<table border=\"1\" class=\"dataframe\">\n",
       "  <thead>\n",
       "    <tr style=\"text-align: right;\">\n",
       "      <th></th>\n",
       "      <th>overall</th>\n",
       "      <th>vote</th>\n",
       "      <th>verified</th>\n",
       "      <th>reviewTime</th>\n",
       "      <th>reviewerID</th>\n",
       "      <th>asin</th>\n",
       "      <th>reviewerName</th>\n",
       "      <th>reviewText</th>\n",
       "      <th>summary</th>\n",
       "      <th>unixReviewTime</th>\n",
       "      <th>style</th>\n",
       "      <th>image</th>\n",
       "    </tr>\n",
       "  </thead>\n",
       "  <tbody>\n",
       "    <tr>\n",
       "      <th>0</th>\n",
       "      <td>5</td>\n",
       "      <td>2</td>\n",
       "      <td>True</td>\n",
       "      <td>12 11, 2011</td>\n",
       "      <td>AUVPE2KEXBJVT</td>\n",
       "      <td>9539723809</td>\n",
       "      <td>T. E. Kainz</td>\n",
       "      <td>I don't spend a lot on my flags because they r...</td>\n",
       "      <td>Good quality for the price</td>\n",
       "      <td>1323561600</td>\n",
       "      <td>NaN</td>\n",
       "      <td>NaN</td>\n",
       "    </tr>\n",
       "    <tr>\n",
       "      <th>1</th>\n",
       "      <td>5</td>\n",
       "      <td>NaN</td>\n",
       "      <td>True</td>\n",
       "      <td>07 30, 2011</td>\n",
       "      <td>A2F6GES1MBOFXS</td>\n",
       "      <td>9539723809</td>\n",
       "      <td>BluesJamJim</td>\n",
       "      <td>Super fast processing and shipping, if you are...</td>\n",
       "      <td>3'x5' Colorado State flag</td>\n",
       "      <td>1311984000</td>\n",
       "      <td>NaN</td>\n",
       "      <td>NaN</td>\n",
       "    </tr>\n",
       "    <tr>\n",
       "      <th>2</th>\n",
       "      <td>5</td>\n",
       "      <td>NaN</td>\n",
       "      <td>True</td>\n",
       "      <td>05 4, 2016</td>\n",
       "      <td>A1SDVD3SZI1BAK</td>\n",
       "      <td>9539723809</td>\n",
       "      <td>Gabriel M Martinez</td>\n",
       "      <td>Great product.  I would recommend this product...</td>\n",
       "      <td>Colorado Flag</td>\n",
       "      <td>1462320000</td>\n",
       "      <td>NaN</td>\n",
       "      <td>NaN</td>\n",
       "    </tr>\n",
       "    <tr>\n",
       "      <th>3</th>\n",
       "      <td>5</td>\n",
       "      <td>NaN</td>\n",
       "      <td>True</td>\n",
       "      <td>11 2, 2015</td>\n",
       "      <td>A1ZQJ3KCSLUPR3</td>\n",
       "      <td>9539723809</td>\n",
       "      <td>RAJ THE FLASH</td>\n",
       "      <td>GREAT PRICE I LOVE MY STATE AND COUNTRY</td>\n",
       "      <td>RETIRED MILITARY</td>\n",
       "      <td>1446422400</td>\n",
       "      <td>NaN</td>\n",
       "      <td>NaN</td>\n",
       "    </tr>\n",
       "    <tr>\n",
       "      <th>4</th>\n",
       "      <td>5</td>\n",
       "      <td>NaN</td>\n",
       "      <td>True</td>\n",
       "      <td>09 1, 2015</td>\n",
       "      <td>ANU8FBZM618M3</td>\n",
       "      <td>9539723809</td>\n",
       "      <td>James R. Mills</td>\n",
       "      <td>Great display flag for the den.</td>\n",
       "      <td>Five Stars</td>\n",
       "      <td>1441065600</td>\n",
       "      <td>NaN</td>\n",
       "      <td>NaN</td>\n",
       "    </tr>\n",
       "  </tbody>\n",
       "</table>\n",
       "</div>"
      ],
      "text/plain": [
       "   overall vote  verified   reviewTime      reviewerID        asin  \\\n",
       "0        5    2      True  12 11, 2011   AUVPE2KEXBJVT  9539723809   \n",
       "1        5  NaN      True  07 30, 2011  A2F6GES1MBOFXS  9539723809   \n",
       "2        5  NaN      True   05 4, 2016  A1SDVD3SZI1BAK  9539723809   \n",
       "3        5  NaN      True   11 2, 2015  A1ZQJ3KCSLUPR3  9539723809   \n",
       "4        5  NaN      True   09 1, 2015   ANU8FBZM618M3  9539723809   \n",
       "\n",
       "         reviewerName                                         reviewText  \\\n",
       "0         T. E. Kainz  I don't spend a lot on my flags because they r...   \n",
       "1         BluesJamJim  Super fast processing and shipping, if you are...   \n",
       "2  Gabriel M Martinez  Great product.  I would recommend this product...   \n",
       "3       RAJ THE FLASH            GREAT PRICE I LOVE MY STATE AND COUNTRY   \n",
       "4      James R. Mills                    Great display flag for the den.   \n",
       "\n",
       "                      summary  unixReviewTime style image  \n",
       "0  Good quality for the price      1323561600   NaN   NaN  \n",
       "1   3'x5' Colorado State flag      1311984000   NaN   NaN  \n",
       "2               Colorado Flag      1462320000   NaN   NaN  \n",
       "3            RETIRED MILITARY      1446422400   NaN   NaN  \n",
       "4                  Five Stars      1441065600   NaN   NaN  "
      ]
     },
     "execution_count": 2,
     "metadata": {},
     "output_type": "execute_result"
    }
   ],
   "source": [
    "df = pd.read_json('../../Dataset/Reviews.json', lines = True)\n",
    "df.head()"
   ]
  },
  {
   "cell_type": "code",
   "execution_count": 3,
   "id": "d8734a14",
   "metadata": {},
   "outputs": [
    {
     "data": {
      "text/html": [
       "<div>\n",
       "<style scoped>\n",
       "    .dataframe tbody tr th:only-of-type {\n",
       "        vertical-align: middle;\n",
       "    }\n",
       "\n",
       "    .dataframe tbody tr th {\n",
       "        vertical-align: top;\n",
       "    }\n",
       "\n",
       "    .dataframe thead th {\n",
       "        text-align: right;\n",
       "    }\n",
       "</style>\n",
       "<table border=\"1\" class=\"dataframe\">\n",
       "  <thead>\n",
       "    <tr style=\"text-align: right;\">\n",
       "      <th></th>\n",
       "      <th>overall</th>\n",
       "      <th>reviewText</th>\n",
       "      <th>asin</th>\n",
       "    </tr>\n",
       "  </thead>\n",
       "  <tbody>\n",
       "    <tr>\n",
       "      <th>0</th>\n",
       "      <td>5</td>\n",
       "      <td>I don't spend a lot on my flags because they r...</td>\n",
       "      <td>9539723809</td>\n",
       "    </tr>\n",
       "    <tr>\n",
       "      <th>1</th>\n",
       "      <td>5</td>\n",
       "      <td>Super fast processing and shipping, if you are...</td>\n",
       "      <td>9539723809</td>\n",
       "    </tr>\n",
       "    <tr>\n",
       "      <th>2</th>\n",
       "      <td>5</td>\n",
       "      <td>Great product.  I would recommend this product...</td>\n",
       "      <td>9539723809</td>\n",
       "    </tr>\n",
       "    <tr>\n",
       "      <th>3</th>\n",
       "      <td>5</td>\n",
       "      <td>GREAT PRICE I LOVE MY STATE AND COUNTRY</td>\n",
       "      <td>9539723809</td>\n",
       "    </tr>\n",
       "    <tr>\n",
       "      <th>4</th>\n",
       "      <td>5</td>\n",
       "      <td>Great display flag for the den.</td>\n",
       "      <td>9539723809</td>\n",
       "    </tr>\n",
       "  </tbody>\n",
       "</table>\n",
       "</div>"
      ],
      "text/plain": [
       "   overall                                         reviewText        asin\n",
       "0        5  I don't spend a lot on my flags because they r...  9539723809\n",
       "1        5  Super fast processing and shipping, if you are...  9539723809\n",
       "2        5  Great product.  I would recommend this product...  9539723809\n",
       "3        5            GREAT PRICE I LOVE MY STATE AND COUNTRY  9539723809\n",
       "4        5                    Great display flag for the den.  9539723809"
      ]
     },
     "execution_count": 3,
     "metadata": {},
     "output_type": "execute_result"
    }
   ],
   "source": [
    "df = df[['overall', 'reviewText', 'asin']]\n",
    "df.head()"
   ]
  },
  {
   "cell_type": "markdown",
   "id": "09f9669e",
   "metadata": {},
   "source": [
    "We can use the pandas describe function and value counts function to look at how the data is distributed. As we can see the data is heavily skewed towards 5 stars with 66% of the reviews being 5 stars and an average of 4.3 stars across the whole dataset."
   ]
  },
  {
   "cell_type": "code",
   "execution_count": 4,
   "id": "08d3139f",
   "metadata": {},
   "outputs": [
    {
     "data": {
      "text/html": [
       "<div>\n",
       "<style scoped>\n",
       "    .dataframe tbody tr th:only-of-type {\n",
       "        vertical-align: middle;\n",
       "    }\n",
       "\n",
       "    .dataframe tbody tr th {\n",
       "        vertical-align: top;\n",
       "    }\n",
       "\n",
       "    .dataframe thead th {\n",
       "        text-align: right;\n",
       "    }\n",
       "</style>\n",
       "<table border=\"1\" class=\"dataframe\">\n",
       "  <thead>\n",
       "    <tr style=\"text-align: right;\">\n",
       "      <th></th>\n",
       "      <th>overall</th>\n",
       "    </tr>\n",
       "  </thead>\n",
       "  <tbody>\n",
       "    <tr>\n",
       "      <th>count</th>\n",
       "      <td>798415.000000</td>\n",
       "    </tr>\n",
       "    <tr>\n",
       "      <th>mean</th>\n",
       "      <td>4.321493</td>\n",
       "    </tr>\n",
       "    <tr>\n",
       "      <th>std</th>\n",
       "      <td>1.174888</td>\n",
       "    </tr>\n",
       "    <tr>\n",
       "      <th>min</th>\n",
       "      <td>1.000000</td>\n",
       "    </tr>\n",
       "    <tr>\n",
       "      <th>25%</th>\n",
       "      <td>4.000000</td>\n",
       "    </tr>\n",
       "    <tr>\n",
       "      <th>50%</th>\n",
       "      <td>5.000000</td>\n",
       "    </tr>\n",
       "    <tr>\n",
       "      <th>75%</th>\n",
       "      <td>5.000000</td>\n",
       "    </tr>\n",
       "    <tr>\n",
       "      <th>max</th>\n",
       "      <td>5.000000</td>\n",
       "    </tr>\n",
       "  </tbody>\n",
       "</table>\n",
       "</div>"
      ],
      "text/plain": [
       "             overall\n",
       "count  798415.000000\n",
       "mean        4.321493\n",
       "std         1.174888\n",
       "min         1.000000\n",
       "25%         4.000000\n",
       "50%         5.000000\n",
       "75%         5.000000\n",
       "max         5.000000"
      ]
     },
     "execution_count": 4,
     "metadata": {},
     "output_type": "execute_result"
    }
   ],
   "source": [
    "df.describe()"
   ]
  },
  {
   "cell_type": "code",
   "execution_count": 5,
   "id": "1942fce1",
   "metadata": {},
   "outputs": [
    {
     "name": "stdout",
     "output_type": "stream",
     "text": [
      "Overall percentages: \n",
      "5    66.832787\n",
      "4    15.454619\n",
      "3     7.198637\n",
      "1     6.456918\n",
      "2     4.057038\n",
      "Name: overall, dtype: float64\n"
     ]
    }
   ],
   "source": [
    "overall_counts = df['overall'].value_counts()\n",
    "overall_percentages = (overall_counts/len(df)) * 100\n",
    "\n",
    "print('Overall percentages: ')\n",
    "print(overall_percentages)"
   ]
  },
  {
   "cell_type": "code",
   "execution_count": 6,
   "id": "7344500f",
   "metadata": {},
   "outputs": [
    {
     "data": {
      "image/png": "[encoded data removed]",
      "text/plain": [
       "<Figure size 1000x500 with 1 Axes>"
      ]
     },
     "metadata": {},
     "output_type": "display_data"
    }
   ],
   "source": [
    "ax = df['overall'].value_counts().sort_index()\\\n",
    "    .plot(kind = 'bar',\n",
    "         title = 'Count of reviews by stars',\n",
    "         figsize=(10,5))\n",
    "\n",
    "ax.set_xlabel('Review stars')\n",
    "plt.show()"
   ]
  },
  {
   "cell_type": "markdown",
   "id": "75e64a2a",
   "metadata": {},
   "source": [
    "Some of the data within the dataframe contains null values for the review text columns. We need to remove these as they are unusable for our purposes."
   ]
  },
  {
   "cell_type": "code",
   "execution_count": 7,
   "id": "15880314",
   "metadata": {},
   "outputs": [
    {
     "data": {
      "text/plain": [
       "overall       0.000000\n",
       "reviewText    0.000233\n",
       "asin          0.000000\n",
       "dtype: float64"
      ]
     },
     "execution_count": 7,
     "metadata": {},
     "output_type": "execute_result"
    }
   ],
   "source": [
    "df.isnull().mean()"
   ]
  },
  {
   "cell_type": "code",
   "execution_count": 8,
   "id": "b17d3421",
   "metadata": {
    "scrolled": true
   },
   "outputs": [],
   "source": [
    "df.dropna(inplace = True)"
   ]
  },
  {
   "cell_type": "code",
   "execution_count": 9,
   "id": "9ccd69ce",
   "metadata": {
    "scrolled": true
   },
   "outputs": [
    {
     "data": {
      "text/plain": [
       "overall       0.0\n",
       "reviewText    0.0\n",
       "asin          0.0\n",
       "dtype: float64"
      ]
     },
     "execution_count": 9,
     "metadata": {},
     "output_type": "execute_result"
    }
   ],
   "source": [
    "df.isnull().mean()"
   ]
  },
  {
   "cell_type": "markdown",
   "id": "30fb74e4",
   "metadata": {},
   "source": [
    "We will also need to filter out exceptionally small and large reviews. To do this we will first need to remove unwanted characters such as white space, special characters and html tags."
   ]
  },
  {
   "cell_type": "code",
   "execution_count": 10,
   "id": "51cb7af5",
   "metadata": {},
   "outputs": [],
   "source": [
    "def clean_text(text):\n",
    "    # Remove HTML tags\n",
    "    text = re.sub('<[^<]+?>', '', text)\n",
    "    \n",
    "    # Remove extra whitespace\n",
    "    text = re.sub(r'\\s+', ' ', text)\n",
    "    \n",
    "    # Replace special characters with their ASCII equivalent\n",
    "    text = text.replace(\"’\", \"'\").replace(\"‘\", \"'\").replace(\"“\", '\"').replace(\"”\", '\"')\n",
    "    \n",
    "    return text"
   ]
  },
  {
   "cell_type": "code",
   "execution_count": 11,
   "id": "5e7aad88",
   "metadata": {},
   "outputs": [
    {
     "name": "stderr",
     "output_type": "stream",
     "text": [
      "100%|███████████████████████████████████████████████████████████████████████| 798229/798229 [00:11<00:00, 70924.20it/s]\n"
     ]
    },
    {
     "data": {
      "text/html": [
       "<div>\n",
       "<style scoped>\n",
       "    .dataframe tbody tr th:only-of-type {\n",
       "        vertical-align: middle;\n",
       "    }\n",
       "\n",
       "    .dataframe tbody tr th {\n",
       "        vertical-align: top;\n",
       "    }\n",
       "\n",
       "    .dataframe thead th {\n",
       "        text-align: right;\n",
       "    }\n",
       "</style>\n",
       "<table border=\"1\" class=\"dataframe\">\n",
       "  <thead>\n",
       "    <tr style=\"text-align: right;\">\n",
       "      <th></th>\n",
       "      <th>overall</th>\n",
       "      <th>reviewText</th>\n",
       "      <th>asin</th>\n",
       "    </tr>\n",
       "  </thead>\n",
       "  <tbody>\n",
       "    <tr>\n",
       "      <th>0</th>\n",
       "      <td>5</td>\n",
       "      <td>I don't spend a lot on my flags because they r...</td>\n",
       "      <td>9539723809</td>\n",
       "    </tr>\n",
       "    <tr>\n",
       "      <th>1</th>\n",
       "      <td>5</td>\n",
       "      <td>Super fast processing and shipping, if you are...</td>\n",
       "      <td>9539723809</td>\n",
       "    </tr>\n",
       "    <tr>\n",
       "      <th>2</th>\n",
       "      <td>5</td>\n",
       "      <td>Great product. I would recommend this product....</td>\n",
       "      <td>9539723809</td>\n",
       "    </tr>\n",
       "    <tr>\n",
       "      <th>3</th>\n",
       "      <td>5</td>\n",
       "      <td>GREAT PRICE I LOVE MY STATE AND COUNTRY</td>\n",
       "      <td>9539723809</td>\n",
       "    </tr>\n",
       "    <tr>\n",
       "      <th>4</th>\n",
       "      <td>5</td>\n",
       "      <td>Great display flag for the den.</td>\n",
       "      <td>9539723809</td>\n",
       "    </tr>\n",
       "  </tbody>\n",
       "</table>\n",
       "</div>"
      ],
      "text/plain": [
       "   overall                                         reviewText        asin\n",
       "0        5  I don't spend a lot on my flags because they r...  9539723809\n",
       "1        5  Super fast processing and shipping, if you are...  9539723809\n",
       "2        5  Great product. I would recommend this product....  9539723809\n",
       "3        5            GREAT PRICE I LOVE MY STATE AND COUNTRY  9539723809\n",
       "4        5                    Great display flag for the den.  9539723809"
      ]
     },
     "execution_count": 11,
     "metadata": {},
     "output_type": "execute_result"
    }
   ],
   "source": [
    "tqdm.pandas()\n",
    "df['reviewText'] = df['reviewText'].progress_apply(clean_text)\n",
    "df.head()"
   ]
  },
  {
   "cell_type": "markdown",
   "id": "f6ac70a1",
   "metadata": {},
   "source": [
    "We can see that there are some reviews with a length of 0 even though we removed null values. There are also some very large reviews, we should remove these to improve the training speed of our machine learning algorithms. This will also help reduce our dataset size."
   ]
  },
  {
   "cell_type": "code",
   "execution_count": 12,
   "id": "56ceffba",
   "metadata": {},
   "outputs": [
    {
     "name": "stdout",
     "output_type": "stream",
     "text": [
      "Maximum review length:  29855\n",
      "Minimum review length:  0\n",
      "Average review length:  243.09822619824638\n",
      "Standard deviation of review length:  421.2814790006786\n"
     ]
    }
   ],
   "source": [
    "review_lengths = df['reviewText'].str.len()\n",
    "\n",
    "max_length = review_lengths.max()\n",
    "min_length = review_lengths.min()\n",
    "avg_length = review_lengths.mean()\n",
    "std_length = review_lengths.std()\n",
    "\n",
    "print('Maximum review length: ', max_length)\n",
    "print('Minimum review length: ', min_length)\n",
    "print('Average review length: ', avg_length)\n",
    "print('Standard deviation of review length: ', std_length)"
   ]
  },
  {
   "cell_type": "code",
   "execution_count": 13,
   "id": "afd67eaf",
   "metadata": {},
   "outputs": [
    {
     "name": "stdout",
     "output_type": "stream",
     "text": [
      "Number of entries:  798229\n"
     ]
    }
   ],
   "source": [
    "num_entries = df.shape[0]\n",
    "\n",
    "print('Number of entries: ', num_entries)"
   ]
  },
  {
   "cell_type": "markdown",
   "id": "6b9fd3c3",
   "metadata": {},
   "source": [
    "Filter out reviews that are too short or too long"
   ]
  },
  {
   "cell_type": "code",
   "execution_count": 14,
   "id": "9660c5a2",
   "metadata": {},
   "outputs": [],
   "source": [
    "min_length = 250\n",
    "max_length = 1000\n",
    "filtered_df = df[df['reviewText']\n",
    "                 .str\n",
    "                 .lower()\n",
    "                 .replace('[^\\w\\s]', '', regex=True)\n",
    "                 .str.len()\n",
    "                 .between(min_length, max_length)]"
   ]
  },
  {
   "cell_type": "code",
   "execution_count": 15,
   "id": "d341a87a",
   "metadata": {},
   "outputs": [
    {
     "name": "stdout",
     "output_type": "stream",
     "text": [
      "Maximum review length:  1139\n",
      "Minimum review length:  250\n",
      "Average review length:  485.84131216530653\n",
      "Standard deviation of review length:  196.9117024872207\n"
     ]
    }
   ],
   "source": [
    "review_lengths = filtered_df['reviewText'].str.len()\n",
    "\n",
    "max_length = review_lengths.max()\n",
    "min_length = review_lengths.min()\n",
    "avg_length = review_lengths.mean()\n",
    "std_length = review_lengths.std()\n",
    "\n",
    "print('Maximum review length: ', max_length)\n",
    "print('Minimum review length: ', min_length)\n",
    "print('Average review length: ', avg_length)\n",
    "print('Standard deviation of review length: ', std_length)"
   ]
  },
  {
   "cell_type": "markdown",
   "id": "32396e69",
   "metadata": {},
   "source": [
    "After dropping some text data, we can see that we still have around 180,000 data entries which is more than enough."
   ]
  },
  {
   "cell_type": "code",
   "execution_count": 16,
   "id": "6714ac07",
   "metadata": {},
   "outputs": [
    {
     "data": {
      "text/html": [
       "<div>\n",
       "<style scoped>\n",
       "    .dataframe tbody tr th:only-of-type {\n",
       "        vertical-align: middle;\n",
       "    }\n",
       "\n",
       "    .dataframe tbody tr th {\n",
       "        vertical-align: top;\n",
       "    }\n",
       "\n",
       "    .dataframe thead th {\n",
       "        text-align: right;\n",
       "    }\n",
       "</style>\n",
       "<table border=\"1\" class=\"dataframe\">\n",
       "  <thead>\n",
       "    <tr style=\"text-align: right;\">\n",
       "      <th></th>\n",
       "      <th>overall</th>\n",
       "      <th>reviewText</th>\n",
       "      <th>asin</th>\n",
       "    </tr>\n",
       "  </thead>\n",
       "  <tbody>\n",
       "    <tr>\n",
       "      <th>0</th>\n",
       "      <td>5</td>\n",
       "      <td>I don't spend a lot on my flags because they r...</td>\n",
       "      <td>9539723809</td>\n",
       "    </tr>\n",
       "    <tr>\n",
       "      <th>9</th>\n",
       "      <td>5</td>\n",
       "      <td>A very dear friend of mine is slowly losing he...</td>\n",
       "      <td>B00000JSZH</td>\n",
       "    </tr>\n",
       "    <tr>\n",
       "      <th>14</th>\n",
       "      <td>5</td>\n",
       "      <td>This is absolutely exquisite! It's made of car...</td>\n",
       "      <td>B00000JSZH</td>\n",
       "    </tr>\n",
       "    <tr>\n",
       "      <th>20</th>\n",
       "      <td>4</td>\n",
       "      <td>This is really nice to use, however, just not ...</td>\n",
       "      <td>B00000JSZH</td>\n",
       "    </tr>\n",
       "    <tr>\n",
       "      <th>21</th>\n",
       "      <td>5</td>\n",
       "      <td>This Angel is beautiful. I as so glad I chose ...</td>\n",
       "      <td>B00000JSZH</td>\n",
       "    </tr>\n",
       "  </tbody>\n",
       "</table>\n",
       "</div>"
      ],
      "text/plain": [
       "    overall                                         reviewText        asin\n",
       "0         5  I don't spend a lot on my flags because they r...  9539723809\n",
       "9         5  A very dear friend of mine is slowly losing he...  B00000JSZH\n",
       "14        5  This is absolutely exquisite! It's made of car...  B00000JSZH\n",
       "20        4  This is really nice to use, however, just not ...  B00000JSZH\n",
       "21        5  This Angel is beautiful. I as so glad I chose ...  B00000JSZH"
      ]
     },
     "execution_count": 16,
     "metadata": {},
     "output_type": "execute_result"
    }
   ],
   "source": [
    "filtered_df.head()"
   ]
  },
  {
   "cell_type": "code",
   "execution_count": 17,
   "id": "334651c7",
   "metadata": {},
   "outputs": [
    {
     "name": "stdout",
     "output_type": "stream",
     "text": [
      "Number of entries:  179642\n"
     ]
    }
   ],
   "source": [
    "num_entries = filtered_df.shape[0]\n",
    "\n",
    "print('Number of entries: ', num_entries)"
   ]
  },
  {
   "cell_type": "markdown",
   "id": "00884348",
   "metadata": {},
   "source": [
    "The data still generally follows the same bias as before. It is slightly less skewed towards 5 stars however."
   ]
  },
  {
   "cell_type": "code",
   "execution_count": 18,
   "id": "fb12af5e",
   "metadata": {},
   "outputs": [
    {
     "data": {
      "text/html": [
       "<div>\n",
       "<style scoped>\n",
       "    .dataframe tbody tr th:only-of-type {\n",
       "        vertical-align: middle;\n",
       "    }\n",
       "\n",
       "    .dataframe tbody tr th {\n",
       "        vertical-align: top;\n",
       "    }\n",
       "\n",
       "    .dataframe thead th {\n",
       "        text-align: right;\n",
       "    }\n",
       "</style>\n",
       "<table border=\"1\" class=\"dataframe\">\n",
       "  <thead>\n",
       "    <tr style=\"text-align: right;\">\n",
       "      <th></th>\n",
       "      <th>overall</th>\n",
       "    </tr>\n",
       "  </thead>\n",
       "  <tbody>\n",
       "    <tr>\n",
       "      <th>count</th>\n",
       "      <td>179642.000000</td>\n",
       "    </tr>\n",
       "    <tr>\n",
       "      <th>mean</th>\n",
       "      <td>4.088621</td>\n",
       "    </tr>\n",
       "    <tr>\n",
       "      <th>std</th>\n",
       "      <td>1.307608</td>\n",
       "    </tr>\n",
       "    <tr>\n",
       "      <th>min</th>\n",
       "      <td>1.000000</td>\n",
       "    </tr>\n",
       "    <tr>\n",
       "      <th>25%</th>\n",
       "      <td>4.000000</td>\n",
       "    </tr>\n",
       "    <tr>\n",
       "      <th>50%</th>\n",
       "      <td>5.000000</td>\n",
       "    </tr>\n",
       "    <tr>\n",
       "      <th>75%</th>\n",
       "      <td>5.000000</td>\n",
       "    </tr>\n",
       "    <tr>\n",
       "      <th>max</th>\n",
       "      <td>5.000000</td>\n",
       "    </tr>\n",
       "  </tbody>\n",
       "</table>\n",
       "</div>"
      ],
      "text/plain": [
       "             overall\n",
       "count  179642.000000\n",
       "mean        4.088621\n",
       "std         1.307608\n",
       "min         1.000000\n",
       "25%         4.000000\n",
       "50%         5.000000\n",
       "75%         5.000000\n",
       "max         5.000000"
      ]
     },
     "execution_count": 18,
     "metadata": {},
     "output_type": "execute_result"
    }
   ],
   "source": [
    "filtered_df.describe()"
   ]
  },
  {
   "cell_type": "code",
   "execution_count": 19,
   "id": "0a34b6ad",
   "metadata": {},
   "outputs": [
    {
     "name": "stdout",
     "output_type": "stream",
     "text": [
      "Overall percentages: \n",
      "5    57.242182\n",
      "4    18.392692\n",
      "3     9.408156\n",
      "1     9.058015\n",
      "2     5.898955\n",
      "Name: overall, dtype: float64\n"
     ]
    }
   ],
   "source": [
    "overall_counts = filtered_df['overall'].value_counts()\n",
    "overall_percentages = overall_counts / len(filtered_df) * 100\n",
    "\n",
    "print('Overall percentages: ')\n",
    "print(overall_percentages)"
   ]
  },
  {
   "cell_type": "code",
   "execution_count": 20,
   "id": "49d0c690",
   "metadata": {},
   "outputs": [],
   "source": [
    "filtered_df.to_csv('../Data/filtered_data.csv', index=False)"
   ]
  }
 ],
 "metadata": {
  "kernelspec": {
   "display_name": "gpu2",
   "language": "python",
   "name": "gpu2"
  },
  "language_info": {
   "codemirror_mode": {
    "name": "ipython",
    "version": 3
   },
   "file_extension": ".py",
   "mimetype": "text/x-python",
   "name": "python",
   "nbconvert_exporter": "python",
   "pygments_lexer": "ipython3",
   "version": "3.10.6"
  }
 },
 "nbformat": 4,
 "nbformat_minor": 5
}
