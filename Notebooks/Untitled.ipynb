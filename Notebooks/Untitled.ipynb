{
 "cells": [
  {
   "cell_type": "code",
   "execution_count": 17,
   "id": "52321a04",
   "metadata": {},
   "outputs": [
    {
     "data": {
      "text/html": [
       "<div>\n",
       "<style scoped>\n",
       "    .dataframe tbody tr th:only-of-type {\n",
       "        vertical-align: middle;\n",
       "    }\n",
       "\n",
       "    .dataframe tbody tr th {\n",
       "        vertical-align: top;\n",
       "    }\n",
       "\n",
       "    .dataframe thead th {\n",
       "        text-align: right;\n",
       "    }\n",
       "</style>\n",
       "<table border=\"1\" class=\"dataframe\">\n",
       "  <thead>\n",
       "    <tr style=\"text-align: right;\">\n",
       "      <th></th>\n",
       "      <th>overall</th>\n",
       "      <th>reviewText</th>\n",
       "      <th>asin</th>\n",
       "      <th>sentiment</th>\n",
       "    </tr>\n",
       "  </thead>\n",
       "  <tbody>\n",
       "    <tr>\n",
       "      <th>0</th>\n",
       "      <td>5</td>\n",
       "      <td>I don't spend a lot on my flags because they r...</td>\n",
       "      <td>9539723809</td>\n",
       "      <td>0.9514</td>\n",
       "    </tr>\n",
       "    <tr>\n",
       "      <th>1</th>\n",
       "      <td>5</td>\n",
       "      <td>Super fast processing and shipping, if you are...</td>\n",
       "      <td>9539723809</td>\n",
       "      <td>0.8748</td>\n",
       "    </tr>\n",
       "    <tr>\n",
       "      <th>2</th>\n",
       "      <td>5</td>\n",
       "      <td>Great product.  I would recommend this product...</td>\n",
       "      <td>9539723809</td>\n",
       "      <td>0.8442</td>\n",
       "    </tr>\n",
       "    <tr>\n",
       "      <th>3</th>\n",
       "      <td>5</td>\n",
       "      <td>GREAT PRICE I LOVE MY STATE AND COUNTRY</td>\n",
       "      <td>9539723809</td>\n",
       "      <td>0.8519</td>\n",
       "    </tr>\n",
       "    <tr>\n",
       "      <th>4</th>\n",
       "      <td>5</td>\n",
       "      <td>Great display flag for the den.</td>\n",
       "      <td>9539723809</td>\n",
       "      <td>0.6249</td>\n",
       "    </tr>\n",
       "  </tbody>\n",
       "</table>\n",
       "</div>"
      ],
      "text/plain": [
       "   overall                                         reviewText        asin  \\\n",
       "0        5  I don't spend a lot on my flags because they r...  9539723809   \n",
       "1        5  Super fast processing and shipping, if you are...  9539723809   \n",
       "2        5  Great product.  I would recommend this product...  9539723809   \n",
       "3        5            GREAT PRICE I LOVE MY STATE AND COUNTRY  9539723809   \n",
       "4        5                    Great display flag for the den.  9539723809   \n",
       "\n",
       "   sentiment  \n",
       "0     0.9514  \n",
       "1     0.8748  \n",
       "2     0.8442  \n",
       "3     0.8519  \n",
       "4     0.6249  "
      ]
     },
     "execution_count": 17,
     "metadata": {},
     "output_type": "execute_result"
    }
   ],
   "source": [
    "df = pd.read_csv('../Data/reviews_with_sentiment.csv')\n",
    "df.head()"
   ]
  },
  {
   "cell_type": "code",
   "execution_count": 28,
   "id": "ed5a5b00",
   "metadata": {},
   "outputs": [
    {
     "name": "stdout",
     "output_type": "stream",
     "text": [
      "0         576\n",
      "1         139\n",
      "2          80\n",
      "3          39\n",
      "4          31\n",
      "         ... \n",
      "798224     48\n",
      "798225     58\n",
      "798226    520\n",
      "798227     73\n",
      "798228     40\n",
      "Name: reviewText, Length: 798229, dtype: int64\n"
     ]
    }
   ],
   "source": [
    "print(df.reviewText.map(len))"
   ]
  },
  {
   "cell_type": "code",
   "execution_count": null,
   "id": "006114f4",
   "metadata": {},
   "outputs": [],
   "source": []
  }
 ],
 "metadata": {
  "kernelspec": {
   "display_name": "gpu2",
   "language": "python",
   "name": "gpu2"
  },
  "language_info": {
   "codemirror_mode": {
    "name": "ipython",
    "version": 3
   },
   "file_extension": ".py",
   "mimetype": "text/x-python",
   "name": "python",
   "nbconvert_exporter": "python",
   "pygments_lexer": "ipython3",
   "version": "3.10.6"
  }
 },
 "nbformat": 4,
 "nbformat_minor": 5
}
