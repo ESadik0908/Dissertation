{
 "cells": [
  {
   "cell_type": "code",
   "execution_count": 1,
   "id": "822d892d",
   "metadata": {},
   "outputs": [],
   "source": [
    "import pandas as pd\n",
    "\n",
    "import nltk\n",
    "from nltk.corpus import stopwords\n",
    "from nltk.stem import SnowballStemmer\n",
    "import re\n",
    "import contractions\n",
    "import string\n",
    "from num2words import num2words\n",
    "\n",
    "from tqdm import tqdm"
   ]
  },
  {
   "cell_type": "code",
   "execution_count": 2,
   "id": "0193a07c",
   "metadata": {},
   "outputs": [
    {
     "name": "stderr",
     "output_type": "stream",
     "text": [
      "[nltk_data] Downloading package stopwords to\n",
      "[nltk_data]     C:\\Users\\Ethan\\AppData\\Roaming\\nltk_data...\n",
      "[nltk_data]   Package stopwords is already up-to-date!\n"
     ]
    }
   ],
   "source": [
    "nltk.download('stopwords')\n",
    "stop_words = set(stopwords.words('english'))\n",
    "stemmer = SnowballStemmer('english')"
   ]
  },
  {
   "cell_type": "markdown",
   "id": "32a5dd15",
   "metadata": {},
   "source": [
    "# Data preprocessing"
   ]
  },
  {
   "cell_type": "markdown",
   "id": "de25e005",
   "metadata": {},
   "source": [
    "We will need to do some data preprocessing so that we can properly vectorize the data for our machine learning methods."
   ]
  },
  {
   "cell_type": "code",
   "execution_count": 3,
   "id": "be1aec43",
   "metadata": {
    "scrolled": false
   },
   "outputs": [
    {
     "data": {
      "text/html": [
       "<div>\n",
       "<style scoped>\n",
       "    .dataframe tbody tr th:only-of-type {\n",
       "        vertical-align: middle;\n",
       "    }\n",
       "\n",
       "    .dataframe tbody tr th {\n",
       "        vertical-align: top;\n",
       "    }\n",
       "\n",
       "    .dataframe thead th {\n",
       "        text-align: right;\n",
       "    }\n",
       "</style>\n",
       "<table border=\"1\" class=\"dataframe\">\n",
       "  <thead>\n",
       "    <tr style=\"text-align: right;\">\n",
       "      <th></th>\n",
       "      <th>overall</th>\n",
       "      <th>reviewText</th>\n",
       "      <th>asin</th>\n",
       "    </tr>\n",
       "  </thead>\n",
       "  <tbody>\n",
       "    <tr>\n",
       "      <th>0</th>\n",
       "      <td>5</td>\n",
       "      <td>I don't spend a lot on my flags because they r...</td>\n",
       "      <td>9539723809</td>\n",
       "    </tr>\n",
       "    <tr>\n",
       "      <th>1</th>\n",
       "      <td>5</td>\n",
       "      <td>A very dear friend of mine is slowly losing he...</td>\n",
       "      <td>B00000JSZH</td>\n",
       "    </tr>\n",
       "    <tr>\n",
       "      <th>2</th>\n",
       "      <td>5</td>\n",
       "      <td>This is absolutely exquisite! It's made of car...</td>\n",
       "      <td>B00000JSZH</td>\n",
       "    </tr>\n",
       "    <tr>\n",
       "      <th>3</th>\n",
       "      <td>4</td>\n",
       "      <td>This is really nice to use, however, just not ...</td>\n",
       "      <td>B00000JSZH</td>\n",
       "    </tr>\n",
       "    <tr>\n",
       "      <th>4</th>\n",
       "      <td>5</td>\n",
       "      <td>This Angel is beautiful. I as so glad I chose ...</td>\n",
       "      <td>B00000JSZH</td>\n",
       "    </tr>\n",
       "  </tbody>\n",
       "</table>\n",
       "</div>"
      ],
      "text/plain": [
       "   overall                                         reviewText        asin\n",
       "0        5  I don't spend a lot on my flags because they r...  9539723809\n",
       "1        5  A very dear friend of mine is slowly losing he...  B00000JSZH\n",
       "2        5  This is absolutely exquisite! It's made of car...  B00000JSZH\n",
       "3        4  This is really nice to use, however, just not ...  B00000JSZH\n",
       "4        5  This Angel is beautiful. I as so glad I chose ...  B00000JSZH"
      ]
     },
     "execution_count": 3,
     "metadata": {},
     "output_type": "execute_result"
    }
   ],
   "source": [
    "df = pd.read_csv('../Data/filtered_data.csv')\n",
    "df.head()"
   ]
  },
  {
   "cell_type": "markdown",
   "id": "730aba72",
   "metadata": {},
   "source": [
    "The preproccesing steps are as follows\n",
    "\n",
    "1. Lowercase the text\n",
    "2. Expand contractions e.g \"don't\" -> \"do not\"\n",
    "3. Remove HTML tags, whitespace and special characters. This has already been done but we will want to apply this function to reviews that have been typed (not in our dataset)\n",
    "4. Remove punctuation\n",
    "5. Convert numerical data to text data e.g \"21\" -> \"twenty-one\"\n",
    "6. Remove punctuation again since num2words adds a hyphen\n",
    "8. Tokenize the words for stemming and stop word removal\n",
    "9. Stop word removal as they add no value to seniment\n",
    "10. Word stemming to simplify the text for the vectorization"
   ]
  },
  {
   "cell_type": "code",
   "execution_count": 4,
   "id": "8b3485df",
   "metadata": {
    "scrolled": true
   },
   "outputs": [
    {
     "name": "stderr",
     "output_type": "stream",
     "text": [
      "100%|████████████████████████████████████████████████████████████████████████| 179642/179642 [02:24<00:00, 1246.20it/s]\n"
     ]
    },
    {
     "data": {
      "text/html": [
       "<div>\n",
       "<style scoped>\n",
       "    .dataframe tbody tr th:only-of-type {\n",
       "        vertical-align: middle;\n",
       "    }\n",
       "\n",
       "    .dataframe tbody tr th {\n",
       "        vertical-align: top;\n",
       "    }\n",
       "\n",
       "    .dataframe thead th {\n",
       "        text-align: right;\n",
       "    }\n",
       "</style>\n",
       "<table border=\"1\" class=\"dataframe\">\n",
       "  <thead>\n",
       "    <tr style=\"text-align: right;\">\n",
       "      <th></th>\n",
       "      <th>overall</th>\n",
       "      <th>reviewText</th>\n",
       "      <th>asin</th>\n",
       "      <th>preprocessed_text</th>\n",
       "    </tr>\n",
       "  </thead>\n",
       "  <tbody>\n",
       "    <tr>\n",
       "      <th>0</th>\n",
       "      <td>5</td>\n",
       "      <td>I don't spend a lot on my flags because they r...</td>\n",
       "      <td>9539723809</td>\n",
       "      <td>spend lot flag realli get beat lesser qualiti ...</td>\n",
       "    </tr>\n",
       "    <tr>\n",
       "      <th>1</th>\n",
       "      <td>5</td>\n",
       "      <td>A very dear friend of mine is slowly losing he...</td>\n",
       "      <td>B00000JSZH</td>\n",
       "      <td>dear friend mine slowli lose sight pen make po...</td>\n",
       "    </tr>\n",
       "    <tr>\n",
       "      <th>2</th>\n",
       "      <td>5</td>\n",
       "      <td>This is absolutely exquisite! It's made of car...</td>\n",
       "      <td>B00000JSZH</td>\n",
       "      <td>absolut exquisit made cardboard like descript ...</td>\n",
       "    </tr>\n",
       "    <tr>\n",
       "      <th>3</th>\n",
       "      <td>4</td>\n",
       "      <td>This is really nice to use, however, just not ...</td>\n",
       "      <td>B00000JSZH</td>\n",
       "      <td>realli nice use howev color saddl shimmer give...</td>\n",
       "    </tr>\n",
       "    <tr>\n",
       "      <th>4</th>\n",
       "      <td>5</td>\n",
       "      <td>This Angel is beautiful. I as so glad I chose ...</td>\n",
       "      <td>B00000JSZH</td>\n",
       "      <td>angel beauti glad chose one even beauti look o...</td>\n",
       "    </tr>\n",
       "  </tbody>\n",
       "</table>\n",
       "</div>"
      ],
      "text/plain": [
       "   overall                                         reviewText        asin  \\\n",
       "0        5  I don't spend a lot on my flags because they r...  9539723809   \n",
       "1        5  A very dear friend of mine is slowly losing he...  B00000JSZH   \n",
       "2        5  This is absolutely exquisite! It's made of car...  B00000JSZH   \n",
       "3        4  This is really nice to use, however, just not ...  B00000JSZH   \n",
       "4        5  This Angel is beautiful. I as so glad I chose ...  B00000JSZH   \n",
       "\n",
       "                                   preprocessed_text  \n",
       "0  spend lot flag realli get beat lesser qualiti ...  \n",
       "1  dear friend mine slowli lose sight pen make po...  \n",
       "2  absolut exquisit made cardboard like descript ...  \n",
       "3  realli nice use howev color saddl shimmer give...  \n",
       "4  angel beauti glad chose one even beauti look o...  "
      ]
     },
     "execution_count": 4,
     "metadata": {},
     "output_type": "execute_result"
    }
   ],
   "source": [
    "def clean_text(text):\n",
    "    # Convert to lowercase\n",
    "    text = text.lower()\n",
    "    \n",
    "    # Expand contractions\n",
    "    text = contractions.fix(text)\n",
    "    \n",
    "    # Remove HTML tags\n",
    "    text = re.sub('<[^<]+?>', '', text)\n",
    "    \n",
    "    # Remove extra whitespace\n",
    "    text = re.sub(r'\\s+', ' ', text)\n",
    "    \n",
    "    # Replace special characters with their ASCII equivalent\n",
    "    text = text.replace(\"’\", \"'\").replace(\"‘\", \"'\").replace(\"“\", '\"').replace(\"”\", '\"')\n",
    "    \n",
    "    # Remove punctuation\n",
    "    text = text.translate(str.maketrans('', '', string.punctuation))\n",
    "    \n",
    "    # Replace numbers with their written form\n",
    "    words = []\n",
    "    for word in text.split():\n",
    "        if word.isdigit():\n",
    "            words.append(num2words(int(word)))\n",
    "        else:\n",
    "            words.append(word)\n",
    "    text = ' '.join(words)\n",
    "    \n",
    "    # Remove punctuation\n",
    "    text = text.translate(str.maketrans('', '', string.punctuation))\n",
    "\n",
    "    # Tokenize the text\n",
    "    tokens = nltk.word_tokenize(text)\n",
    "    \n",
    "    # Remove stop words\n",
    "    tokens = [token for token in tokens if token not in stop_words]\n",
    "    \n",
    "    # Stem the words\n",
    "    tokens = [stemmer.stem(token) for token in tokens]\n",
    "    \n",
    "    # Join the tokens back into a string\n",
    "    preprocessed_text = \" \".join(tokens)\n",
    "\n",
    "    return preprocessed_text\n",
    "\n",
    "tqdm.pandas()\n",
    "df['preprocessed_text'] = df['reviewText'].progress_apply(clean_text)\n",
    "df.head()"
   ]
  },
  {
   "cell_type": "code",
   "execution_count": 5,
   "id": "d2426d12",
   "metadata": {},
   "outputs": [
    {
     "name": "stdout",
     "output_type": "stream",
     "text": [
      "I don't spend a lot on my flags because they really get beat up. So I but the lesser quality figuring that they'll have to be replaced a couple of times a year anyways. The fact that this very inexpensive flag is still flying 8 months later pleases me well. It's up about 20 feet, 7/24, and sees winds averaging 5 to 10 mph on a 'normal' day with the occasional storm friont gusts reaching as high as 60+ mph. So far (8 months later) it's just now starting to show a little fraying on the ends. I'll be buying another shortly to have ready when this one finally gives in. \n",
      "\n",
      "spend lot flag realli get beat lesser qualiti figur replac coupl time year anyway fact inexpens flag still fli eight month later pleas well twenti feet seven hundr twentyfour see wind averag five ten mph normal day occasion storm friont gust reach high sixti mph far eight month later start show littl fray end buy anoth short readi one final give\n"
     ]
    }
   ],
   "source": [
    "print(df.iloc[0]['reviewText'], '\\n')\n",
    "print(df.iloc[0]['preprocessed_text'])"
   ]
  },
  {
   "cell_type": "code",
   "execution_count": 6,
   "id": "2f7b572b",
   "metadata": {},
   "outputs": [],
   "source": [
    "df.to_csv('../Data/preprocessed_data.csv', index=False)"
   ]
  }
 ],
 "metadata": {
  "kernelspec": {
   "display_name": "gpu2",
   "language": "python",
   "name": "gpu2"
  },
  "language_info": {
   "codemirror_mode": {
    "name": "ipython",
    "version": 3
   },
   "file_extension": ".py",
   "mimetype": "text/x-python",
   "name": "python",
   "nbconvert_exporter": "python",
   "pygments_lexer": "ipython3",
   "version": "3.10.6"
  }
 },
 "nbformat": 4,
 "nbformat_minor": 5
}
