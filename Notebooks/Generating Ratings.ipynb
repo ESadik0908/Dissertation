{
 "cells": [
  {
   "cell_type": "code",
   "execution_count": 1,
   "id": "afaf041a",
   "metadata": {},
   "outputs": [],
   "source": [
    "import re\n",
    "import string\n",
    "import numpy as np\n",
    "import contractions\n",
    "from num2words import num2words\n",
    "import nltk\n",
    "from nltk.corpus import stopwords\n",
    "from nltk.stem import SnowballStemmer\n",
    "\n",
    "import joblib\n",
    "\n",
    "from nltk.sentiment.vader import SentimentIntensityAnalyzer\n",
    "import pandas as pd\n",
    "\n",
    "import tqdm\n",
    "from tqdm import tqdm"
   ]
  },
  {
   "cell_type": "code",
   "execution_count": 2,
   "id": "9ef7af45",
   "metadata": {},
   "outputs": [],
   "source": [
    "stop_words = set(stopwords.words('english'))\n",
    "stemmer = SnowballStemmer('english')"
   ]
  },
  {
   "cell_type": "markdown",
   "id": "5e708764",
   "metadata": {},
   "source": [
    "# Vader text cleaning"
   ]
  },
  {
   "cell_type": "code",
   "execution_count": 3,
   "id": "423b5b8b",
   "metadata": {},
   "outputs": [],
   "source": [
    "def clean_text_vader(text):\n",
    "    # Expand contractions\n",
    "    text = contractions.fix(text)\n",
    "    \n",
    "    # Remove HTML tags\n",
    "    text = re.sub('<[^<]+?>', '', text)\n",
    "    \n",
    "    # Remove extra whitespace\n",
    "    text = re.sub(r'\\s+', ' ', text)\n",
    "    \n",
    "    # Replace special characters with their ASCII equivalent\n",
    "    text = text.replace(\"’\", \"'\").replace(\"‘\", \"'\").replace(\"“\", '\"').replace(\"”\", '\"')\n",
    "    \n",
    "    # Remove punctuation\n",
    "    text = text.translate(str.maketrans('', '', string.punctuation)) \n",
    "    \n",
    "    # Replace numbers with their written form\n",
    "    words = []\n",
    "    for word in text.split():\n",
    "        if word.isdigit():\n",
    "            words.append(num2words(int(word)))\n",
    "        else:\n",
    "            words.append(word)\n",
    "    text = ' '.join(words)\n",
    "    \n",
    "    # Remove punctuation\n",
    "    text = text.translate(str.maketrans('', '', string.punctuation))     \n",
    "   \n",
    "    return text"
   ]
  },
  {
   "cell_type": "markdown",
   "id": "756aa880",
   "metadata": {},
   "source": [
    "# Machine learning text cleaning"
   ]
  },
  {
   "cell_type": "code",
   "execution_count": 4,
   "id": "72fb33e0",
   "metadata": {},
   "outputs": [],
   "source": [
    "def clean_text(text):\n",
    "    # Convert to lowercase\n",
    "    text = text.lower()\n",
    "    \n",
    "    # Expand contractions\n",
    "    text = contractions.fix(text)\n",
    "    \n",
    "    # Remove HTML tags\n",
    "    text = re.sub('<[^<]+?>', '', text)\n",
    "    \n",
    "    # Remove extra whitespace\n",
    "    text = re.sub(r'\\s+', ' ', text)\n",
    "    \n",
    "    # Replace special characters with their ASCII equivalent\n",
    "    text = text.replace(\"’\", \"'\").replace(\"‘\", \"'\").replace(\"“\", '\"').replace(\"”\", '\"')\n",
    "    \n",
    "    # Remove punctuation\n",
    "    text = text.translate(str.maketrans('', '', string.punctuation))\n",
    "    \n",
    "    # Replace numbers with their written form\n",
    "    words = []\n",
    "    for word in text.split():\n",
    "        if word.isdigit():\n",
    "            words.append(num2words(int(word)))\n",
    "        else:\n",
    "            words.append(word)\n",
    "    text = ' '.join(words)\n",
    "    \n",
    "    # Remove punctuation\n",
    "    text = text.translate(str.maketrans('', '', string.punctuation))\n",
    "\n",
    "    # Tokenize the text\n",
    "    tokens = nltk.word_tokenize(text)\n",
    "    \n",
    "    # Remove stop words\n",
    "    tokens = [token for token in tokens if token not in stop_words]\n",
    "    \n",
    "    # Stem the words\n",
    "    tokens = [stemmer.stem(token) for token in tokens]\n",
    "    \n",
    "    # Join the tokens back into a string\n",
    "    preprocessed_text = \" \".join(tokens)\n",
    "    \n",
    "    return text"
   ]
  },
  {
   "cell_type": "markdown",
   "id": "1287845b",
   "metadata": {},
   "source": [
    "# Vader"
   ]
  },
  {
   "cell_type": "code",
   "execution_count": 5,
   "id": "86e46f86",
   "metadata": {},
   "outputs": [],
   "source": [
    "def catagorise_data(sentiment):\n",
    "    if sentiment >=-1 and sentiment < -0.5:\n",
    "        return 1\n",
    "    \n",
    "    if sentiment >= -0.5 and sentiment < 0:\n",
    "        return 2\n",
    "    \n",
    "    if sentiment == 0:\n",
    "        return 3\n",
    "    \n",
    "    if sentiment > 0 and sentiment < 0.5:\n",
    "        return 4\n",
    "    \n",
    "    if sentiment >= 0.5 and sentiment <= 1:\n",
    "        return 5"
   ]
  },
  {
   "cell_type": "code",
   "execution_count": 6,
   "id": "c4f1fbb9",
   "metadata": {},
   "outputs": [],
   "source": [
    "sid = SentimentIntensityAnalyzer()\n",
    "\n",
    "def vader_rating(review):\n",
    "    preprocessed_text = clean_text(review)\n",
    "    tmp = sid.polarity_scores(preprocessed_text)\n",
    "    predicted_rating = catagorise_data(tmp['compound'])\n",
    "    return predicted_rating"
   ]
  },
  {
   "cell_type": "markdown",
   "id": "63c58dfb",
   "metadata": {},
   "source": [
    "# SVM"
   ]
  },
  {
   "cell_type": "code",
   "execution_count": 7,
   "id": "e83d9835",
   "metadata": {},
   "outputs": [],
   "source": [
    "svm_model = joblib.load('../Models/svm_clf.joblib')\n",
    "svm_vectorizer = joblib.load('../Models/svm_vectorizer.joblib')\n",
    "\n",
    "def svm_rating(review):\n",
    "    preprocessed_text = clean_text(review)\n",
    "    X = svm_vectorizer.transform([preprocessed_text])\n",
    "    y_pred = svm_model.predict(X)\n",
    "    return y_pred[0]"
   ]
  },
  {
   "cell_type": "markdown",
   "id": "1830ac2d",
   "metadata": {},
   "source": [
    "# Naive Bayes"
   ]
  },
  {
   "cell_type": "code",
   "execution_count": 8,
   "id": "1e08316e",
   "metadata": {},
   "outputs": [],
   "source": [
    "bayes_model = joblib.load('../Models/bayes_clf.joblib')\n",
    "bayes_vectorizer = joblib.load('../Models/bayes_vectorizer.joblib')\n",
    "\n",
    "def bayes_rating(review):\n",
    "    preprocessed_text = clean_text(review)\n",
    "    X = bayes_vectorizer.transform([preprocessed_text])\n",
    "    y_pred = bayes_model.predict(X)\n",
    "    return y_pred[0]"
   ]
  },
  {
   "cell_type": "markdown",
   "id": "ced7c9ac",
   "metadata": {},
   "source": [
    "# Logistic Regression"
   ]
  },
  {
   "cell_type": "code",
   "execution_count": 9,
   "id": "fe3473e8",
   "metadata": {},
   "outputs": [],
   "source": [
    "logistic_model = joblib.load('../Models/regression.joblib')\n",
    "\n",
    "def logistic_rating(review):\n",
    "    preprocessed_text = clean_text(review)\n",
    "    predicted_rating = logistic_model.predict([preprocessed_text])[0]\n",
    "    predicted_rating = np.clip(predicted_rating, 1, 5)\n",
    "    return predicted_rating"
   ]
  },
  {
   "cell_type": "markdown",
   "id": "68b2c380",
   "metadata": {},
   "source": [
    "# Comparisson"
   ]
  },
  {
   "cell_type": "code",
   "execution_count": 10,
   "id": "8677b52e",
   "metadata": {},
   "outputs": [
    {
     "name": "stdout",
     "output_type": "stream",
     "text": [
      "Enter a review: It was ok\n",
      "\n",
      "\n",
      "Vader rating: 4 \n",
      "\n",
      "SVM rating: 3 \n",
      "\n",
      "Naive Bayes rating: 3 \n",
      "\n",
      "Logistic Regression rating: 3 \n",
      "\n"
     ]
    }
   ],
   "source": [
    "review = input(\"Enter a review: \")\n",
    "\n",
    "print('\\n')\n",
    "print('Vader rating:', vader_rating(review), '\\n')\n",
    "print('SVM rating:', svm_rating(review), '\\n')\n",
    "print('Naive Bayes rating:', bayes_rating(review), '\\n')\n",
    "print('Logistic Regression rating:', logistic_rating(review), '\\n')"
   ]
  }
 ],
 "metadata": {
  "kernelspec": {
   "display_name": "gpu2",
   "language": "python",
   "name": "gpu2"
  },
  "language_info": {
   "codemirror_mode": {
    "name": "ipython",
    "version": 3
   },
   "file_extension": ".py",
   "mimetype": "text/x-python",
   "name": "python",
   "nbconvert_exporter": "python",
   "pygments_lexer": "ipython3",
   "version": "3.10.6"
  }
 },
 "nbformat": 4,
 "nbformat_minor": 5
}
